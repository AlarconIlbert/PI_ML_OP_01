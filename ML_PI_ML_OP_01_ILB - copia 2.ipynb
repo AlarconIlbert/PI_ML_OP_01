{
 "cells": [
  {
   "cell_type": "code",
   "execution_count": 1,
   "metadata": {},
   "outputs": [],
   "source": [
    "import pandas as pd\n",
    "import numpy as np\n",
    "from sklearn.feature_extraction.text import CountVectorizer\n",
    "from sklearn.metrics.pairwise import cosine_similarity"
   ]
  },
  {
   "cell_type": "code",
   "execution_count": 2,
   "metadata": {},
   "outputs": [],
   "source": [
    "# Cargar el dataset\n",
    "df = pd.read_csv('DATASET\\Movies_EDA_ILB.csv', encoding='utf-8')"
   ]
  },
  {
   "cell_type": "code",
   "execution_count": 3,
   "metadata": {},
   "outputs": [
    {
     "data": {
      "text/html": [
       "<div>\n",
       "<style scoped>\n",
       "    .dataframe tbody tr th:only-of-type {\n",
       "        vertical-align: middle;\n",
       "    }\n",
       "\n",
       "    .dataframe tbody tr th {\n",
       "        vertical-align: top;\n",
       "    }\n",
       "\n",
       "    .dataframe thead th {\n",
       "        text-align: right;\n",
       "    }\n",
       "</style>\n",
       "<table border=\"1\" class=\"dataframe\">\n",
       "  <thead>\n",
       "    <tr style=\"text-align: right;\">\n",
       "      <th></th>\n",
       "      <th>budget</th>\n",
       "      <th>id</th>\n",
       "      <th>original_language</th>\n",
       "      <th>overview</th>\n",
       "      <th>popularity</th>\n",
       "      <th>release_date</th>\n",
       "      <th>revenue</th>\n",
       "      <th>runtime</th>\n",
       "      <th>status</th>\n",
       "      <th>title</th>\n",
       "      <th>vote_average</th>\n",
       "      <th>vote_count</th>\n",
       "      <th>return</th>\n",
       "      <th>release_year</th>\n",
       "      <th>genres_name</th>\n",
       "      <th>idgenres</th>\n",
       "      <th>iso_spokelang</th>\n",
       "      <th>namescast</th>\n",
       "      <th>idcast</th>\n",
       "      <th>directors</th>\n",
       "    </tr>\n",
       "  </thead>\n",
       "  <tbody>\n",
       "    <tr>\n",
       "      <th>0</th>\n",
       "      <td>30.0</td>\n",
       "      <td>862</td>\n",
       "      <td>en</td>\n",
       "      <td>Led by Woody, Andys toys live happily in his r...</td>\n",
       "      <td>21.946943</td>\n",
       "      <td>1995-10-30</td>\n",
       "      <td>373.554033</td>\n",
       "      <td>81.0</td>\n",
       "      <td>Released</td>\n",
       "      <td>Toy Story</td>\n",
       "      <td>7.7</td>\n",
       "      <td>5415.0</td>\n",
       "      <td>0.000012</td>\n",
       "      <td>1995</td>\n",
       "      <td>Animation, Comedy, Family</td>\n",
       "      <td>16, 35, 10751</td>\n",
       "      <td>en</td>\n",
       "      <td>Tom Hanks, Tim Allen, Don Rickles, Jim Varney,...</td>\n",
       "      <td>31, 12898, 7167, 12899, 12900, 7907, 8873, 111...</td>\n",
       "      <td>John Lasseter</td>\n",
       "    </tr>\n",
       "  </tbody>\n",
       "</table>\n",
       "</div>"
      ],
      "text/plain": [
       "   budget   id original_language  \\\n",
       "0    30.0  862                en   \n",
       "\n",
       "                                            overview  popularity release_date  \\\n",
       "0  Led by Woody, Andys toys live happily in his r...   21.946943   1995-10-30   \n",
       "\n",
       "      revenue  runtime    status      title  vote_average  vote_count  \\\n",
       "0  373.554033     81.0  Released  Toy Story           7.7      5415.0   \n",
       "\n",
       "     return  release_year                genres_name       idgenres  \\\n",
       "0  0.000012          1995  Animation, Comedy, Family  16, 35, 10751   \n",
       "\n",
       "  iso_spokelang                                          namescast  \\\n",
       "0            en  Tom Hanks, Tim Allen, Don Rickles, Jim Varney,...   \n",
       "\n",
       "                                              idcast      directors  \n",
       "0  31, 12898, 7167, 12899, 12900, 7907, 8873, 111...  John Lasseter  "
      ]
     },
     "execution_count": 3,
     "metadata": {},
     "output_type": "execute_result"
    }
   ],
   "source": [
    "df.head(1)"
   ]
  },
  {
   "cell_type": "code",
   "execution_count": 4,
   "metadata": {},
   "outputs": [
    {
     "data": {
      "text/plain": [
       "(40946, 20)"
      ]
     },
     "execution_count": 4,
     "metadata": {},
     "output_type": "execute_result"
    }
   ],
   "source": [
    "df.shape"
   ]
  },
  {
   "cell_type": "code",
   "execution_count": 5,
   "metadata": {},
   "outputs": [
    {
     "data": {
      "text/plain": [
       "(38114, 20)"
      ]
     },
     "execution_count": 5,
     "metadata": {},
     "output_type": "execute_result"
    }
   ],
   "source": [
    "df.drop_duplicates(subset=['title'],inplace=True)\n",
    "df=df.reset_index(drop=True)\n",
    "df.shape"
   ]
  },
  {
   "cell_type": "code",
   "execution_count": 6,
   "metadata": {},
   "outputs": [],
   "source": [
    "model_df=df[['overview','title','genres_name','namescast','directors']]"
   ]
  },
  {
   "cell_type": "code",
   "execution_count": 7,
   "metadata": {},
   "outputs": [
    {
     "data": {
      "text/html": [
       "<div>\n",
       "<style scoped>\n",
       "    .dataframe tbody tr th:only-of-type {\n",
       "        vertical-align: middle;\n",
       "    }\n",
       "\n",
       "    .dataframe tbody tr th {\n",
       "        vertical-align: top;\n",
       "    }\n",
       "\n",
       "    .dataframe thead th {\n",
       "        text-align: right;\n",
       "    }\n",
       "</style>\n",
       "<table border=\"1\" class=\"dataframe\">\n",
       "  <thead>\n",
       "    <tr style=\"text-align: right;\">\n",
       "      <th></th>\n",
       "      <th>overview</th>\n",
       "      <th>title</th>\n",
       "      <th>genres_name</th>\n",
       "      <th>namescast</th>\n",
       "      <th>directors</th>\n",
       "    </tr>\n",
       "  </thead>\n",
       "  <tbody>\n",
       "    <tr>\n",
       "      <th>0</th>\n",
       "      <td>Led by Woody, Andys toys live happily in his r...</td>\n",
       "      <td>Toy Story</td>\n",
       "      <td>Animation, Comedy, Family</td>\n",
       "      <td>Tom Hanks, Tim Allen, Don Rickles, Jim Varney,...</td>\n",
       "      <td>John Lasseter</td>\n",
       "    </tr>\n",
       "    <tr>\n",
       "      <th>1</th>\n",
       "      <td>When siblings Judy and Peter discover an encha...</td>\n",
       "      <td>Jumanji</td>\n",
       "      <td>Adventure, Fantasy, Family</td>\n",
       "      <td>Robin Williams, Jonathan Hyde, Kirsten Dunst, ...</td>\n",
       "      <td>Joe Johnston</td>\n",
       "    </tr>\n",
       "    <tr>\n",
       "      <th>2</th>\n",
       "      <td>A family wedding reignites the ancient feud be...</td>\n",
       "      <td>Grumpier Old Men</td>\n",
       "      <td>Romance, Comedy</td>\n",
       "      <td>Walter Matthau, Jack Lemmon, Ann-Margret, Soph...</td>\n",
       "      <td>Howard Deutch</td>\n",
       "    </tr>\n",
       "  </tbody>\n",
       "</table>\n",
       "</div>"
      ],
      "text/plain": [
       "                                            overview             title  \\\n",
       "0  Led by Woody, Andys toys live happily in his r...         Toy Story   \n",
       "1  When siblings Judy and Peter discover an encha...           Jumanji   \n",
       "2  A family wedding reignites the ancient feud be...  Grumpier Old Men   \n",
       "\n",
       "                  genres_name  \\\n",
       "0   Animation, Comedy, Family   \n",
       "1  Adventure, Fantasy, Family   \n",
       "2             Romance, Comedy   \n",
       "\n",
       "                                           namescast      directors  \n",
       "0  Tom Hanks, Tim Allen, Don Rickles, Jim Varney,...  John Lasseter  \n",
       "1  Robin Williams, Jonathan Hyde, Kirsten Dunst, ...   Joe Johnston  \n",
       "2  Walter Matthau, Jack Lemmon, Ann-Margret, Soph...  Howard Deutch  "
      ]
     },
     "execution_count": 7,
     "metadata": {},
     "output_type": "execute_result"
    }
   ],
   "source": [
    "model_df.head(3)"
   ]
  },
  {
   "cell_type": "code",
   "execution_count": 8,
   "metadata": {},
   "outputs": [
    {
     "name": "stderr",
     "output_type": "stream",
     "text": [
      "C:\\Users\\Alarcon Ilbert\\AppData\\Local\\Temp\\ipykernel_10476\\4170630534.py:1: SettingWithCopyWarning: \n",
      "A value is trying to be set on a copy of a slice from a DataFrame.\n",
      "Try using .loc[row_indexer,col_indexer] = value instead\n",
      "\n",
      "See the caveats in the documentation: https://pandas.pydata.org/pandas-docs/stable/user_guide/indexing.html#returning-a-view-versus-a-copy\n",
      "  model_df['overview']=model_df['overview'].map(str)\n",
      "C:\\Users\\Alarcon Ilbert\\AppData\\Local\\Temp\\ipykernel_10476\\4170630534.py:2: SettingWithCopyWarning: \n",
      "A value is trying to be set on a copy of a slice from a DataFrame.\n",
      "Try using .loc[row_indexer,col_indexer] = value instead\n",
      "\n",
      "See the caveats in the documentation: https://pandas.pydata.org/pandas-docs/stable/user_guide/indexing.html#returning-a-view-versus-a-copy\n",
      "  model_df['title']=model_df['title'].map(str)\n",
      "C:\\Users\\Alarcon Ilbert\\AppData\\Local\\Temp\\ipykernel_10476\\4170630534.py:3: SettingWithCopyWarning: \n",
      "A value is trying to be set on a copy of a slice from a DataFrame.\n",
      "Try using .loc[row_indexer,col_indexer] = value instead\n",
      "\n",
      "See the caveats in the documentation: https://pandas.pydata.org/pandas-docs/stable/user_guide/indexing.html#returning-a-view-versus-a-copy\n",
      "  model_df['genres_name']=model_df['genres_name'].map(str)\n",
      "C:\\Users\\Alarcon Ilbert\\AppData\\Local\\Temp\\ipykernel_10476\\4170630534.py:4: SettingWithCopyWarning: \n",
      "A value is trying to be set on a copy of a slice from a DataFrame.\n",
      "Try using .loc[row_indexer,col_indexer] = value instead\n",
      "\n",
      "See the caveats in the documentation: https://pandas.pydata.org/pandas-docs/stable/user_guide/indexing.html#returning-a-view-versus-a-copy\n",
      "  model_df['namescast']=model_df['namescast'].map(str)\n",
      "C:\\Users\\Alarcon Ilbert\\AppData\\Local\\Temp\\ipykernel_10476\\4170630534.py:5: SettingWithCopyWarning: \n",
      "A value is trying to be set on a copy of a slice from a DataFrame.\n",
      "Try using .loc[row_indexer,col_indexer] = value instead\n",
      "\n",
      "See the caveats in the documentation: https://pandas.pydata.org/pandas-docs/stable/user_guide/indexing.html#returning-a-view-versus-a-copy\n",
      "  model_df['directors']=model_df['directors'].map(str)\n"
     ]
    }
   ],
   "source": [
    "model_df['overview']=model_df['overview'].map(str)\n",
    "model_df['title']=model_df['title'].map(str)\n",
    "model_df['genres_name']=model_df['genres_name'].map(str)\n",
    "model_df['namescast']=model_df['namescast'].map(str)\n",
    "model_df['directors']=model_df['directors'].map(str)"
   ]
  },
  {
   "cell_type": "code",
   "execution_count": 9,
   "metadata": {},
   "outputs": [
    {
     "name": "stderr",
     "output_type": "stream",
     "text": [
      "C:\\Users\\Alarcon Ilbert\\AppData\\Local\\Temp\\ipykernel_10476\\2861905056.py:3: FutureWarning: The default value of regex will change from True to False in a future version. In addition, single character regular expressions will *not* be treated as literal strings when regex=True.\n",
      "  model_df[col]=model_df[col].str.replace(val,'')\n",
      "C:\\Users\\Alarcon Ilbert\\AppData\\Local\\Temp\\ipykernel_10476\\2861905056.py:3: SettingWithCopyWarning: \n",
      "A value is trying to be set on a copy of a slice from a DataFrame.\n",
      "Try using .loc[row_indexer,col_indexer] = value instead\n",
      "\n",
      "See the caveats in the documentation: https://pandas.pydata.org/pandas-docs/stable/user_guide/indexing.html#returning-a-view-versus-a-copy\n",
      "  model_df[col]=model_df[col].str.replace(val,'')\n",
      "C:\\Users\\Alarcon Ilbert\\AppData\\Local\\Temp\\ipykernel_10476\\2861905056.py:4: SettingWithCopyWarning: \n",
      "A value is trying to be set on a copy of a slice from a DataFrame.\n",
      "Try using .loc[row_indexer,col_indexer] = value instead\n",
      "\n",
      "See the caveats in the documentation: https://pandas.pydata.org/pandas-docs/stable/user_guide/indexing.html#returning-a-view-versus-a-copy\n",
      "  model_df[col]=model_df[col].astype(str)\n"
     ]
    }
   ],
   "source": [
    "for col in ['overview','title','genres_name','namescast','directors']:\n",
    "    for val in ['[',']','\\'']:\n",
    "        model_df[col]=model_df[col].str.replace(val,'')\n",
    "    model_df[col]=model_df[col].astype(str)"
   ]
  },
  {
   "cell_type": "code",
   "execution_count": 10,
   "metadata": {},
   "outputs": [
    {
     "data": {
      "text/html": [
       "<div>\n",
       "<style scoped>\n",
       "    .dataframe tbody tr th:only-of-type {\n",
       "        vertical-align: middle;\n",
       "    }\n",
       "\n",
       "    .dataframe tbody tr th {\n",
       "        vertical-align: top;\n",
       "    }\n",
       "\n",
       "    .dataframe thead th {\n",
       "        text-align: right;\n",
       "    }\n",
       "</style>\n",
       "<table border=\"1\" class=\"dataframe\">\n",
       "  <thead>\n",
       "    <tr style=\"text-align: right;\">\n",
       "      <th></th>\n",
       "      <th>overview</th>\n",
       "      <th>title</th>\n",
       "      <th>genres_name</th>\n",
       "      <th>namescast</th>\n",
       "      <th>directors</th>\n",
       "    </tr>\n",
       "  </thead>\n",
       "  <tbody>\n",
       "    <tr>\n",
       "      <th>0</th>\n",
       "      <td>Led by Woody, Andys toys live happily in his r...</td>\n",
       "      <td>Toy Story</td>\n",
       "      <td>Animation, Comedy, Family</td>\n",
       "      <td>Tom Hanks, Tim Allen, Don Rickles, Jim Varney,...</td>\n",
       "      <td>John Lasseter</td>\n",
       "    </tr>\n",
       "    <tr>\n",
       "      <th>1</th>\n",
       "      <td>When siblings Judy and Peter discover an encha...</td>\n",
       "      <td>Jumanji</td>\n",
       "      <td>Adventure, Fantasy, Family</td>\n",
       "      <td>Robin Williams, Jonathan Hyde, Kirsten Dunst, ...</td>\n",
       "      <td>Joe Johnston</td>\n",
       "    </tr>\n",
       "    <tr>\n",
       "      <th>2</th>\n",
       "      <td>A family wedding reignites the ancient feud be...</td>\n",
       "      <td>Grumpier Old Men</td>\n",
       "      <td>Romance, Comedy</td>\n",
       "      <td>Walter Matthau, Jack Lemmon, Ann-Margret, Soph...</td>\n",
       "      <td>Howard Deutch</td>\n",
       "    </tr>\n",
       "  </tbody>\n",
       "</table>\n",
       "</div>"
      ],
      "text/plain": [
       "                                            overview             title  \\\n",
       "0  Led by Woody, Andys toys live happily in his r...         Toy Story   \n",
       "1  When siblings Judy and Peter discover an encha...           Jumanji   \n",
       "2  A family wedding reignites the ancient feud be...  Grumpier Old Men   \n",
       "\n",
       "                  genres_name  \\\n",
       "0   Animation, Comedy, Family   \n",
       "1  Adventure, Fantasy, Family   \n",
       "2             Romance, Comedy   \n",
       "\n",
       "                                           namescast      directors  \n",
       "0  Tom Hanks, Tim Allen, Don Rickles, Jim Varney,...  John Lasseter  \n",
       "1  Robin Williams, Jonathan Hyde, Kirsten Dunst, ...   Joe Johnston  \n",
       "2  Walter Matthau, Jack Lemmon, Ann-Margret, Soph...  Howard Deutch  "
      ]
     },
     "execution_count": 10,
     "metadata": {},
     "output_type": "execute_result"
    }
   ],
   "source": [
    "model_df.head(3)"
   ]
  },
  {
   "cell_type": "code",
   "execution_count": 11,
   "metadata": {},
   "outputs": [],
   "source": [
    "def convert_columns_to_lowercase(df):\n",
    "    for column in df.select_dtypes(include='object'):\n",
    "        df[column] = df[column].str.lower()\n",
    "    return df"
   ]
  },
  {
   "cell_type": "code",
   "execution_count": 12,
   "metadata": {},
   "outputs": [
    {
     "name": "stderr",
     "output_type": "stream",
     "text": [
      "C:\\Users\\Alarcon Ilbert\\AppData\\Local\\Temp\\ipykernel_10476\\2484958803.py:3: SettingWithCopyWarning: \n",
      "A value is trying to be set on a copy of a slice from a DataFrame.\n",
      "Try using .loc[row_indexer,col_indexer] = value instead\n",
      "\n",
      "See the caveats in the documentation: https://pandas.pydata.org/pandas-docs/stable/user_guide/indexing.html#returning-a-view-versus-a-copy\n",
      "  df[column] = df[column].str.lower()\n"
     ]
    }
   ],
   "source": [
    "model_df = convert_columns_to_lowercase(model_df)"
   ]
  },
  {
   "cell_type": "code",
   "execution_count": 13,
   "metadata": {},
   "outputs": [],
   "source": [
    "def create_text(model_data):\n",
    "    text = model_data['title']\n",
    "    for column in ['genres_name', 'overview', 'namescast', 'directors']:\n",
    "        if pd.notnull(model_data[column]) and isinstance(model_data[column], str):\n",
    "            text += ' ' + model_data[column].lower()\n",
    "    return text"
   ]
  },
  {
   "cell_type": "code",
   "execution_count": 14,
   "metadata": {},
   "outputs": [
    {
     "data": {
      "text/html": [
       "<div>\n",
       "<style scoped>\n",
       "    .dataframe tbody tr th:only-of-type {\n",
       "        vertical-align: middle;\n",
       "    }\n",
       "\n",
       "    .dataframe tbody tr th {\n",
       "        vertical-align: top;\n",
       "    }\n",
       "\n",
       "    .dataframe thead th {\n",
       "        text-align: right;\n",
       "    }\n",
       "</style>\n",
       "<table border=\"1\" class=\"dataframe\">\n",
       "  <thead>\n",
       "    <tr style=\"text-align: right;\">\n",
       "      <th></th>\n",
       "      <th>overview</th>\n",
       "      <th>title</th>\n",
       "      <th>genres_name</th>\n",
       "      <th>namescast</th>\n",
       "      <th>directors</th>\n",
       "    </tr>\n",
       "  </thead>\n",
       "  <tbody>\n",
       "    <tr>\n",
       "      <th>0</th>\n",
       "      <td>led by woody, andys toys live happily in his r...</td>\n",
       "      <td>toy story</td>\n",
       "      <td>animation, comedy, family</td>\n",
       "      <td>tom hanks, tim allen, don rickles, jim varney,...</td>\n",
       "      <td>john lasseter</td>\n",
       "    </tr>\n",
       "    <tr>\n",
       "      <th>1</th>\n",
       "      <td>when siblings judy and peter discover an encha...</td>\n",
       "      <td>jumanji</td>\n",
       "      <td>adventure, fantasy, family</td>\n",
       "      <td>robin williams, jonathan hyde, kirsten dunst, ...</td>\n",
       "      <td>joe johnston</td>\n",
       "    </tr>\n",
       "    <tr>\n",
       "      <th>2</th>\n",
       "      <td>a family wedding reignites the ancient feud be...</td>\n",
       "      <td>grumpier old men</td>\n",
       "      <td>romance, comedy</td>\n",
       "      <td>walter matthau, jack lemmon, ann-margret, soph...</td>\n",
       "      <td>howard deutch</td>\n",
       "    </tr>\n",
       "  </tbody>\n",
       "</table>\n",
       "</div>"
      ],
      "text/plain": [
       "                                            overview             title  \\\n",
       "0  led by woody, andys toys live happily in his r...         toy story   \n",
       "1  when siblings judy and peter discover an encha...           jumanji   \n",
       "2  a family wedding reignites the ancient feud be...  grumpier old men   \n",
       "\n",
       "                  genres_name  \\\n",
       "0   animation, comedy, family   \n",
       "1  adventure, fantasy, family   \n",
       "2             romance, comedy   \n",
       "\n",
       "                                           namescast      directors  \n",
       "0  tom hanks, tim allen, don rickles, jim varney,...  john lasseter  \n",
       "1  robin williams, jonathan hyde, kirsten dunst, ...   joe johnston  \n",
       "2  walter matthau, jack lemmon, ann-margret, soph...  howard deutch  "
      ]
     },
     "execution_count": 14,
     "metadata": {},
     "output_type": "execute_result"
    }
   ],
   "source": [
    "model_df.head(3)"
   ]
  },
  {
   "cell_type": "code",
   "execution_count": 15,
   "metadata": {},
   "outputs": [
    {
     "name": "stderr",
     "output_type": "stream",
     "text": [
      "C:\\Users\\Alarcon Ilbert\\AppData\\Local\\Temp\\ipykernel_10476\\1557276399.py:1: SettingWithCopyWarning: \n",
      "A value is trying to be set on a copy of a slice from a DataFrame.\n",
      "Try using .loc[row_indexer,col_indexer] = value instead\n",
      "\n",
      "See the caveats in the documentation: https://pandas.pydata.org/pandas-docs/stable/user_guide/indexing.html#returning-a-view-versus-a-copy\n",
      "  model_df['texto'] = model_df['title'] + ' ' + model_df['genres_name'] + ' ' + model_df['overview'] + ' ' + model_df['namescast'] + ' ' + model_df['directors']\n"
     ]
    }
   ],
   "source": [
    "model_df['texto'] = model_df['title'] + ' ' + model_df['genres_name'] + ' ' + model_df['overview'] + ' ' + model_df['namescast'] + ' ' + model_df['directors']"
   ]
  },
  {
   "cell_type": "code",
   "execution_count": 16,
   "metadata": {},
   "outputs": [],
   "source": [
    "def remove_commas(text):\n",
    "    if isinstance(text, str):\n",
    "        return text.replace(',', '')\n",
    "    else:\n",
    "        return ''"
   ]
  },
  {
   "cell_type": "code",
   "execution_count": 17,
   "metadata": {},
   "outputs": [
    {
     "name": "stderr",
     "output_type": "stream",
     "text": [
      "C:\\Users\\Alarcon Ilbert\\AppData\\Local\\Temp\\ipykernel_10476\\361630095.py:2: SettingWithCopyWarning: \n",
      "A value is trying to be set on a copy of a slice from a DataFrame.\n",
      "Try using .loc[row_indexer,col_indexer] = value instead\n",
      "\n",
      "See the caveats in the documentation: https://pandas.pydata.org/pandas-docs/stable/user_guide/indexing.html#returning-a-view-versus-a-copy\n",
      "  model_df['texto'] = model_df['texto'].apply(remove_commas)\n"
     ]
    }
   ],
   "source": [
    "# Aplicar la función clean_keywords a la columna 'keywords'\n",
    "model_df['texto'] = model_df['texto'].apply(remove_commas)"
   ]
  },
  {
   "cell_type": "code",
   "execution_count": 18,
   "metadata": {},
   "outputs": [
    {
     "data": {
      "text/html": [
       "<div>\n",
       "<style scoped>\n",
       "    .dataframe tbody tr th:only-of-type {\n",
       "        vertical-align: middle;\n",
       "    }\n",
       "\n",
       "    .dataframe tbody tr th {\n",
       "        vertical-align: top;\n",
       "    }\n",
       "\n",
       "    .dataframe thead th {\n",
       "        text-align: right;\n",
       "    }\n",
       "</style>\n",
       "<table border=\"1\" class=\"dataframe\">\n",
       "  <thead>\n",
       "    <tr style=\"text-align: right;\">\n",
       "      <th></th>\n",
       "      <th>overview</th>\n",
       "      <th>title</th>\n",
       "      <th>genres_name</th>\n",
       "      <th>namescast</th>\n",
       "      <th>directors</th>\n",
       "      <th>texto</th>\n",
       "    </tr>\n",
       "  </thead>\n",
       "  <tbody>\n",
       "    <tr>\n",
       "      <th>0</th>\n",
       "      <td>led by woody, andys toys live happily in his r...</td>\n",
       "      <td>toy story</td>\n",
       "      <td>animation, comedy, family</td>\n",
       "      <td>tom hanks, tim allen, don rickles, jim varney,...</td>\n",
       "      <td>john lasseter</td>\n",
       "      <td>toy story animation comedy family led by woody...</td>\n",
       "    </tr>\n",
       "    <tr>\n",
       "      <th>1</th>\n",
       "      <td>when siblings judy and peter discover an encha...</td>\n",
       "      <td>jumanji</td>\n",
       "      <td>adventure, fantasy, family</td>\n",
       "      <td>robin williams, jonathan hyde, kirsten dunst, ...</td>\n",
       "      <td>joe johnston</td>\n",
       "      <td>jumanji adventure fantasy family when siblings...</td>\n",
       "    </tr>\n",
       "    <tr>\n",
       "      <th>2</th>\n",
       "      <td>a family wedding reignites the ancient feud be...</td>\n",
       "      <td>grumpier old men</td>\n",
       "      <td>romance, comedy</td>\n",
       "      <td>walter matthau, jack lemmon, ann-margret, soph...</td>\n",
       "      <td>howard deutch</td>\n",
       "      <td>grumpier old men romance comedy a family weddi...</td>\n",
       "    </tr>\n",
       "  </tbody>\n",
       "</table>\n",
       "</div>"
      ],
      "text/plain": [
       "                                            overview             title  \\\n",
       "0  led by woody, andys toys live happily in his r...         toy story   \n",
       "1  when siblings judy and peter discover an encha...           jumanji   \n",
       "2  a family wedding reignites the ancient feud be...  grumpier old men   \n",
       "\n",
       "                  genres_name  \\\n",
       "0   animation, comedy, family   \n",
       "1  adventure, fantasy, family   \n",
       "2             romance, comedy   \n",
       "\n",
       "                                           namescast      directors  \\\n",
       "0  tom hanks, tim allen, don rickles, jim varney,...  john lasseter   \n",
       "1  robin williams, jonathan hyde, kirsten dunst, ...   joe johnston   \n",
       "2  walter matthau, jack lemmon, ann-margret, soph...  howard deutch   \n",
       "\n",
       "                                               texto  \n",
       "0  toy story animation comedy family led by woody...  \n",
       "1  jumanji adventure fantasy family when siblings...  \n",
       "2  grumpier old men romance comedy a family weddi...  "
      ]
     },
     "execution_count": 18,
     "metadata": {},
     "output_type": "execute_result"
    }
   ],
   "source": [
    "model_df.head(3)"
   ]
  },
  {
   "cell_type": "code",
   "execution_count": 19,
   "metadata": {},
   "outputs": [],
   "source": [
    "model_df=model_df.reset_index(drop=True)"
   ]
  },
  {
   "cell_type": "code",
   "execution_count": 20,
   "metadata": {},
   "outputs": [
    {
     "data": {
      "text/plain": [
       "\"def create_text(model_data):\\n    text = model_data['title']\\n    for i in model_data[1:]:\\n        text = text + ' ' + str(i.replace(',',' '))\\n    return text\""
      ]
     },
     "execution_count": 20,
     "metadata": {},
     "output_type": "execute_result"
    }
   ],
   "source": [
    "\"\"\"def create_text(model_data):\n",
    "    text = model_data['title']\n",
    "    for i in model_data[1:]:\n",
    "        text = text + ' ' + str(i.replace(',',' '))\n",
    "    return text\"\"\""
   ]
  },
  {
   "cell_type": "code",
   "execution_count": 21,
   "metadata": {},
   "outputs": [
    {
     "data": {
      "text/plain": [
       "\"model_df['texto']=model_df.apply(create_text,axis=1)\""
      ]
     },
     "execution_count": 21,
     "metadata": {},
     "output_type": "execute_result"
    }
   ],
   "source": [
    "\"\"\"model_df['texto']=model_df.apply(create_text,axis=1)\"\"\""
   ]
  },
  {
   "cell_type": "code",
   "execution_count": null,
   "metadata": {},
   "outputs": [],
   "source": []
  },
  {
   "cell_type": "code",
   "execution_count": null,
   "metadata": {},
   "outputs": [],
   "source": []
  },
  {
   "cell_type": "code",
   "execution_count": 22,
   "metadata": {},
   "outputs": [],
   "source": [
    "model_df.to_csv('DATASET\\Movies_prueba_ILB.csv',index=False)"
   ]
  },
  {
   "cell_type": "code",
   "execution_count": null,
   "metadata": {},
   "outputs": [],
   "source": []
  },
  {
   "cell_type": "code",
   "execution_count": 23,
   "metadata": {},
   "outputs": [],
   "source": [
    "model_df.drop(columns=['overview','genres_name','namescast','directors'], inplace=True)"
   ]
  },
  {
   "cell_type": "code",
   "execution_count": 24,
   "metadata": {},
   "outputs": [
    {
     "data": {
      "text/html": [
       "<div>\n",
       "<style scoped>\n",
       "    .dataframe tbody tr th:only-of-type {\n",
       "        vertical-align: middle;\n",
       "    }\n",
       "\n",
       "    .dataframe tbody tr th {\n",
       "        vertical-align: top;\n",
       "    }\n",
       "\n",
       "    .dataframe thead th {\n",
       "        text-align: right;\n",
       "    }\n",
       "</style>\n",
       "<table border=\"1\" class=\"dataframe\">\n",
       "  <thead>\n",
       "    <tr style=\"text-align: right;\">\n",
       "      <th></th>\n",
       "      <th>title</th>\n",
       "      <th>texto</th>\n",
       "    </tr>\n",
       "  </thead>\n",
       "  <tbody>\n",
       "    <tr>\n",
       "      <th>0</th>\n",
       "      <td>toy story</td>\n",
       "      <td>toy story animation comedy family led by woody...</td>\n",
       "    </tr>\n",
       "    <tr>\n",
       "      <th>1</th>\n",
       "      <td>jumanji</td>\n",
       "      <td>jumanji adventure fantasy family when siblings...</td>\n",
       "    </tr>\n",
       "    <tr>\n",
       "      <th>2</th>\n",
       "      <td>grumpier old men</td>\n",
       "      <td>grumpier old men romance comedy a family weddi...</td>\n",
       "    </tr>\n",
       "  </tbody>\n",
       "</table>\n",
       "</div>"
      ],
      "text/plain": [
       "              title                                              texto\n",
       "0         toy story  toy story animation comedy family led by woody...\n",
       "1           jumanji  jumanji adventure fantasy family when siblings...\n",
       "2  grumpier old men  grumpier old men romance comedy a family weddi..."
      ]
     },
     "execution_count": 24,
     "metadata": {},
     "output_type": "execute_result"
    }
   ],
   "source": [
    "model_df.head(3)"
   ]
  },
  {
   "cell_type": "code",
   "execution_count": 25,
   "metadata": {},
   "outputs": [],
   "source": [
    "model_df=model_df.reset_index(drop=True)"
   ]
  },
  {
   "cell_type": "code",
   "execution_count": null,
   "metadata": {},
   "outputs": [],
   "source": []
  },
  {
   "cell_type": "code",
   "execution_count": 26,
   "metadata": {},
   "outputs": [],
   "source": [
    "# Crear una instancia del CountVectorizer con los parámetros deseados\n",
    "cv = CountVectorizer(stop_words='english', max_features=10000000000000000, min_df=1, max_df=20)  # Ajusta el valor de max_features según tus necesidades"
   ]
  },
  {
   "cell_type": "code",
   "execution_count": 27,
   "metadata": {},
   "outputs": [],
   "source": [
    "# Definir el tamaño de lote para el cálculo de similitud\n",
    "batch_size = 8000"
   ]
  },
  {
   "cell_type": "code",
   "execution_count": 28,
   "metadata": {},
   "outputs": [],
   "source": [
    "# Obtener el número total de muestras y calcular el número de lotes\n",
    "n_samples = len(model_df)\n",
    "n_batches = (n_samples // batch_size) + 1\n",
    "\n",
    "cosine_sim_list = []\n",
    "\n",
    "for i in range(n_batches):\n",
    "    start = i * batch_size\n",
    "    end = min((i + 1) * batch_size, n_samples)\n",
    "\n",
    "    # Obtener el subconjunto de datos\n",
    "    subset_data = model_df.iloc[start:end]\n",
    "\n",
    "    # Ajustar y transformar el CountVectorizer en el subconjunto de datos\n",
    "    cv_matrix = cv.fit_transform(subset_data['texto'])\n",
    "\n",
    "    # Calcular la similitud coseno entre los textos\n",
    "    similarity_matrix = cosine_similarity(cv_matrix, cv_matrix)\n",
    "\n",
    "    # Agregar la matriz de similitud a la lista\n",
    "    cosine_sim_list.append(similarity_matrix)"
   ]
  },
  {
   "cell_type": "code",
   "execution_count": 29,
   "metadata": {},
   "outputs": [],
   "source": [
    "# Encontrar la dimensión mínima a lo largo del eje 0\n",
    "min_dim_0 = min(matrix.shape[0] for matrix in cosine_sim_list)\n",
    "min_dim_1 = min(matrix.shape[1] for matrix in cosine_sim_list)"
   ]
  },
  {
   "cell_type": "code",
   "execution_count": 30,
   "metadata": {},
   "outputs": [],
   "source": [
    "# Ajustar las dimensiones de las matrices al número mínimo de filas y columnas\n",
    "cosine_sim_list = [matrix[:min_dim_1, :min_dim_0] for matrix in cosine_sim_list]"
   ]
  },
  {
   "cell_type": "code",
   "execution_count": 31,
   "metadata": {},
   "outputs": [],
   "source": [
    "# Combinar las matrices de similitud coseno en una única matriz\n",
    "cosine_sim = np.concatenate(cosine_sim_list, axis=0)"
   ]
  },
  {
   "cell_type": "code",
   "execution_count": null,
   "metadata": {},
   "outputs": [],
   "source": []
  },
  {
   "cell_type": "code",
   "execution_count": 32,
   "metadata": {},
   "outputs": [],
   "source": [
    "def recomendaciones(titulo, cosine_sim=cosine_sim):\n",
    "    try:\n",
    "        # Getting the index of the movie that matches the title\n",
    "        idx = model_df[model_df['title'] == str(titulo).lower()].index[0]\n",
    "        # Getting the similarity scores\n",
    "        sim_scores = list(enumerate(cosine_sim[idx]))\n",
    "        #Sorting the movies based on the similarity scores\n",
    "        sim_scores = sorted(sim_scores, key=lambda x: x[1], reverse=True)\n",
    "\n",
    "        # Getting the top 5 recommendations\n",
    "        sim_scores = sim_scores[1:6]\n",
    "        movie_indices = [i[0] for i in sim_scores]\n",
    "        recommendations=list(model_df['title'].iloc[movie_indices].str.title())\n",
    "        return {'lista recomendada': recommendations} \n",
    "    except:\n",
    "        return {'lista recomendada': ['LEGO DC Super Hero Girls: Brain Drain', 'The Lion of Thebes', 'Criminal Justice', 'Mad at the Moon', 'The Far Pavilions']}"
   ]
  },
  {
   "cell_type": "code",
   "execution_count": 37,
   "metadata": {},
   "outputs": [
    {
     "data": {
      "text/plain": [
       "{'lista recomendada': ['The Monkeys Mask',\n",
       "  'Paid In Full',\n",
       "  'At First Sight',\n",
       "  'Ace Ventura: When Nature Calls',\n",
       "  'Fly Away Home']}"
      ]
     },
     "execution_count": 37,
     "metadata": {},
     "output_type": "execute_result"
    }
   ],
   "source": [
    "recomendaciones('top gun')"
   ]
  },
  {
   "cell_type": "code",
   "execution_count": 34,
   "metadata": {},
   "outputs": [
    {
     "data": {
      "text/html": [
       "<div>\n",
       "<style scoped>\n",
       "    .dataframe tbody tr th:only-of-type {\n",
       "        vertical-align: middle;\n",
       "    }\n",
       "\n",
       "    .dataframe tbody tr th {\n",
       "        vertical-align: top;\n",
       "    }\n",
       "\n",
       "    .dataframe thead th {\n",
       "        text-align: right;\n",
       "    }\n",
       "</style>\n",
       "<table border=\"1\" class=\"dataframe\">\n",
       "  <thead>\n",
       "    <tr style=\"text-align: right;\">\n",
       "      <th></th>\n",
       "      <th>title</th>\n",
       "      <th>texto</th>\n",
       "    </tr>\n",
       "  </thead>\n",
       "  <tbody>\n",
       "    <tr>\n",
       "      <th>0</th>\n",
       "      <td>toy story</td>\n",
       "      <td>toy story animation comedy family led by woody...</td>\n",
       "    </tr>\n",
       "    <tr>\n",
       "      <th>1</th>\n",
       "      <td>jumanji</td>\n",
       "      <td>jumanji adventure fantasy family when siblings...</td>\n",
       "    </tr>\n",
       "    <tr>\n",
       "      <th>2</th>\n",
       "      <td>grumpier old men</td>\n",
       "      <td>grumpier old men romance comedy a family weddi...</td>\n",
       "    </tr>\n",
       "    <tr>\n",
       "      <th>3</th>\n",
       "      <td>waiting to exhale</td>\n",
       "      <td>waiting to exhale comedy drama romance cheated...</td>\n",
       "    </tr>\n",
       "    <tr>\n",
       "      <th>4</th>\n",
       "      <td>father of the bride part ii</td>\n",
       "      <td>father of the bride part ii comedy just when g...</td>\n",
       "    </tr>\n",
       "    <tr>\n",
       "      <th>5</th>\n",
       "      <td>heat</td>\n",
       "      <td>heat action crime drama thriller obsessive mas...</td>\n",
       "    </tr>\n",
       "    <tr>\n",
       "      <th>6</th>\n",
       "      <td>sabrina</td>\n",
       "      <td>sabrina comedy romance an ugly duckling having...</td>\n",
       "    </tr>\n",
       "    <tr>\n",
       "      <th>7</th>\n",
       "      <td>tom and huck</td>\n",
       "      <td>tom and huck action adventure drama family a m...</td>\n",
       "    </tr>\n",
       "    <tr>\n",
       "      <th>8</th>\n",
       "      <td>sudden death</td>\n",
       "      <td>sudden death action adventure thriller interna...</td>\n",
       "    </tr>\n",
       "    <tr>\n",
       "      <th>9</th>\n",
       "      <td>goldeneye</td>\n",
       "      <td>goldeneye adventure action thriller james bond...</td>\n",
       "    </tr>\n",
       "    <tr>\n",
       "      <th>10</th>\n",
       "      <td>the american president</td>\n",
       "      <td>the american president comedy drama romance wi...</td>\n",
       "    </tr>\n",
       "    <tr>\n",
       "      <th>11</th>\n",
       "      <td>dracula: dead and loving it</td>\n",
       "      <td>dracula: dead and loving it comedy horror when...</td>\n",
       "    </tr>\n",
       "    <tr>\n",
       "      <th>12</th>\n",
       "      <td>balto</td>\n",
       "      <td>balto family animation adventure an outcast ha...</td>\n",
       "    </tr>\n",
       "    <tr>\n",
       "      <th>13</th>\n",
       "      <td>nixon</td>\n",
       "      <td>nixon history drama an all-star cast powers th...</td>\n",
       "    </tr>\n",
       "    <tr>\n",
       "      <th>14</th>\n",
       "      <td>cutthroat island</td>\n",
       "      <td>cutthroat island action adventure morgan adams...</td>\n",
       "    </tr>\n",
       "    <tr>\n",
       "      <th>15</th>\n",
       "      <td>casino</td>\n",
       "      <td>casino drama crime the life of the gambling pa...</td>\n",
       "    </tr>\n",
       "    <tr>\n",
       "      <th>16</th>\n",
       "      <td>sense and sensibility</td>\n",
       "      <td>sense and sensibility drama romance rich mr. d...</td>\n",
       "    </tr>\n",
       "    <tr>\n",
       "      <th>17</th>\n",
       "      <td>four rooms</td>\n",
       "      <td>four rooms crime comedy its ted the bellhops f...</td>\n",
       "    </tr>\n",
       "    <tr>\n",
       "      <th>18</th>\n",
       "      <td>ace ventura: when nature calls</td>\n",
       "      <td>ace ventura: when nature calls crime comedy ad...</td>\n",
       "    </tr>\n",
       "    <tr>\n",
       "      <th>19</th>\n",
       "      <td>money train</td>\n",
       "      <td>money train action comedy crime a vengeful new...</td>\n",
       "    </tr>\n",
       "    <tr>\n",
       "      <th>20</th>\n",
       "      <td>get shorty</td>\n",
       "      <td>get shorty comedy thriller crime chili palmer ...</td>\n",
       "    </tr>\n",
       "    <tr>\n",
       "      <th>21</th>\n",
       "      <td>copycat</td>\n",
       "      <td>copycat drama thriller an agoraphobic psycholo...</td>\n",
       "    </tr>\n",
       "    <tr>\n",
       "      <th>22</th>\n",
       "      <td>assassins</td>\n",
       "      <td>assassins action adventure crime thriller assa...</td>\n",
       "    </tr>\n",
       "    <tr>\n",
       "      <th>23</th>\n",
       "      <td>powder</td>\n",
       "      <td>powder drama fantasy science fiction thriller ...</td>\n",
       "    </tr>\n",
       "    <tr>\n",
       "      <th>24</th>\n",
       "      <td>leaving las vegas</td>\n",
       "      <td>leaving las vegas drama romance ben sanderson ...</td>\n",
       "    </tr>\n",
       "    <tr>\n",
       "      <th>25</th>\n",
       "      <td>othello</td>\n",
       "      <td>othello drama the evil iago pretends to be fri...</td>\n",
       "    </tr>\n",
       "    <tr>\n",
       "      <th>26</th>\n",
       "      <td>now and then</td>\n",
       "      <td>now and then comedy drama family waxing nostal...</td>\n",
       "    </tr>\n",
       "    <tr>\n",
       "      <th>27</th>\n",
       "      <td>persuasion</td>\n",
       "      <td>persuasion drama romance this film adaptation ...</td>\n",
       "    </tr>\n",
       "    <tr>\n",
       "      <th>28</th>\n",
       "      <td>the city of lost children</td>\n",
       "      <td>the city of lost children fantasy science fict...</td>\n",
       "    </tr>\n",
       "    <tr>\n",
       "      <th>29</th>\n",
       "      <td>shanghai triad</td>\n",
       "      <td>shanghai triad drama crime a provincial boy re...</td>\n",
       "    </tr>\n",
       "    <tr>\n",
       "      <th>30</th>\n",
       "      <td>dangerous minds</td>\n",
       "      <td>dangerous minds drama crime former marine loua...</td>\n",
       "    </tr>\n",
       "    <tr>\n",
       "      <th>31</th>\n",
       "      <td>twelve monkeys</td>\n",
       "      <td>twelve monkeys science fiction thriller myster...</td>\n",
       "    </tr>\n",
       "    <tr>\n",
       "      <th>32</th>\n",
       "      <td>wings of courage</td>\n",
       "      <td>wings of courage romance adventure nan craig s...</td>\n",
       "    </tr>\n",
       "    <tr>\n",
       "      <th>33</th>\n",
       "      <td>babe</td>\n",
       "      <td>babe fantasy drama comedy family babe is a lit...</td>\n",
       "    </tr>\n",
       "    <tr>\n",
       "      <th>34</th>\n",
       "      <td>carrington</td>\n",
       "      <td>carrington history drama romance the story of ...</td>\n",
       "    </tr>\n",
       "    <tr>\n",
       "      <th>35</th>\n",
       "      <td>dead man walking</td>\n",
       "      <td>dead man walking drama a justice drama based o...</td>\n",
       "    </tr>\n",
       "    <tr>\n",
       "      <th>36</th>\n",
       "      <td>across the sea of time</td>\n",
       "      <td>across the sea of time adventure history drama...</td>\n",
       "    </tr>\n",
       "    <tr>\n",
       "      <th>37</th>\n",
       "      <td>it takes two</td>\n",
       "      <td>it takes two comedy family romance identical 9...</td>\n",
       "    </tr>\n",
       "    <tr>\n",
       "      <th>38</th>\n",
       "      <td>clueless</td>\n",
       "      <td>clueless comedy drama romance shallow rich and...</td>\n",
       "    </tr>\n",
       "    <tr>\n",
       "      <th>39</th>\n",
       "      <td>cry, the beloved country</td>\n",
       "      <td>cry the beloved country drama a south-african ...</td>\n",
       "    </tr>\n",
       "    <tr>\n",
       "      <th>40</th>\n",
       "      <td>richard iii</td>\n",
       "      <td>richard iii drama war shakespeares play transp...</td>\n",
       "    </tr>\n",
       "    <tr>\n",
       "      <th>41</th>\n",
       "      <td>dead presidents</td>\n",
       "      <td>dead presidents action crime drama history dep...</td>\n",
       "    </tr>\n",
       "    <tr>\n",
       "      <th>42</th>\n",
       "      <td>restoration</td>\n",
       "      <td>restoration drama romance an aspiring young ph...</td>\n",
       "    </tr>\n",
       "    <tr>\n",
       "      <th>43</th>\n",
       "      <td>mortal kombat</td>\n",
       "      <td>mortal kombat action fantasy for nine generati...</td>\n",
       "    </tr>\n",
       "    <tr>\n",
       "      <th>44</th>\n",
       "      <td>to die for</td>\n",
       "      <td>to die for fantasy drama comedy thriller susan...</td>\n",
       "    </tr>\n",
       "    <tr>\n",
       "      <th>45</th>\n",
       "      <td>how to make an american quilt</td>\n",
       "      <td>how to make an american quilt drama romance so...</td>\n",
       "    </tr>\n",
       "    <tr>\n",
       "      <th>46</th>\n",
       "      <td>se7en</td>\n",
       "      <td>se7en crime mystery thriller two homicide dete...</td>\n",
       "    </tr>\n",
       "    <tr>\n",
       "      <th>47</th>\n",
       "      <td>pocahontas</td>\n",
       "      <td>pocahontas adventure animation drama family hi...</td>\n",
       "    </tr>\n",
       "    <tr>\n",
       "      <th>48</th>\n",
       "      <td>when night is falling</td>\n",
       "      <td>when night is falling drama romance a prudish ...</td>\n",
       "    </tr>\n",
       "    <tr>\n",
       "      <th>49</th>\n",
       "      <td>the usual suspects</td>\n",
       "      <td>the usual suspects drama crime thriller held i...</td>\n",
       "    </tr>\n",
       "  </tbody>\n",
       "</table>\n",
       "</div>"
      ],
      "text/plain": [
       "                             title  \\\n",
       "0                        toy story   \n",
       "1                          jumanji   \n",
       "2                 grumpier old men   \n",
       "3                waiting to exhale   \n",
       "4      father of the bride part ii   \n",
       "5                             heat   \n",
       "6                          sabrina   \n",
       "7                     tom and huck   \n",
       "8                     sudden death   \n",
       "9                        goldeneye   \n",
       "10          the american president   \n",
       "11     dracula: dead and loving it   \n",
       "12                           balto   \n",
       "13                           nixon   \n",
       "14                cutthroat island   \n",
       "15                          casino   \n",
       "16           sense and sensibility   \n",
       "17                      four rooms   \n",
       "18  ace ventura: when nature calls   \n",
       "19                     money train   \n",
       "20                      get shorty   \n",
       "21                         copycat   \n",
       "22                       assassins   \n",
       "23                          powder   \n",
       "24               leaving las vegas   \n",
       "25                         othello   \n",
       "26                    now and then   \n",
       "27                      persuasion   \n",
       "28       the city of lost children   \n",
       "29                  shanghai triad   \n",
       "30                 dangerous minds   \n",
       "31                  twelve monkeys   \n",
       "32                wings of courage   \n",
       "33                            babe   \n",
       "34                      carrington   \n",
       "35                dead man walking   \n",
       "36          across the sea of time   \n",
       "37                    it takes two   \n",
       "38                        clueless   \n",
       "39        cry, the beloved country   \n",
       "40                     richard iii   \n",
       "41                 dead presidents   \n",
       "42                     restoration   \n",
       "43                   mortal kombat   \n",
       "44                      to die for   \n",
       "45   how to make an american quilt   \n",
       "46                           se7en   \n",
       "47                      pocahontas   \n",
       "48           when night is falling   \n",
       "49              the usual suspects   \n",
       "\n",
       "                                                texto  \n",
       "0   toy story animation comedy family led by woody...  \n",
       "1   jumanji adventure fantasy family when siblings...  \n",
       "2   grumpier old men romance comedy a family weddi...  \n",
       "3   waiting to exhale comedy drama romance cheated...  \n",
       "4   father of the bride part ii comedy just when g...  \n",
       "5   heat action crime drama thriller obsessive mas...  \n",
       "6   sabrina comedy romance an ugly duckling having...  \n",
       "7   tom and huck action adventure drama family a m...  \n",
       "8   sudden death action adventure thriller interna...  \n",
       "9   goldeneye adventure action thriller james bond...  \n",
       "10  the american president comedy drama romance wi...  \n",
       "11  dracula: dead and loving it comedy horror when...  \n",
       "12  balto family animation adventure an outcast ha...  \n",
       "13  nixon history drama an all-star cast powers th...  \n",
       "14  cutthroat island action adventure morgan adams...  \n",
       "15  casino drama crime the life of the gambling pa...  \n",
       "16  sense and sensibility drama romance rich mr. d...  \n",
       "17  four rooms crime comedy its ted the bellhops f...  \n",
       "18  ace ventura: when nature calls crime comedy ad...  \n",
       "19  money train action comedy crime a vengeful new...  \n",
       "20  get shorty comedy thriller crime chili palmer ...  \n",
       "21  copycat drama thriller an agoraphobic psycholo...  \n",
       "22  assassins action adventure crime thriller assa...  \n",
       "23  powder drama fantasy science fiction thriller ...  \n",
       "24  leaving las vegas drama romance ben sanderson ...  \n",
       "25  othello drama the evil iago pretends to be fri...  \n",
       "26  now and then comedy drama family waxing nostal...  \n",
       "27  persuasion drama romance this film adaptation ...  \n",
       "28  the city of lost children fantasy science fict...  \n",
       "29  shanghai triad drama crime a provincial boy re...  \n",
       "30  dangerous minds drama crime former marine loua...  \n",
       "31  twelve monkeys science fiction thriller myster...  \n",
       "32  wings of courage romance adventure nan craig s...  \n",
       "33  babe fantasy drama comedy family babe is a lit...  \n",
       "34  carrington history drama romance the story of ...  \n",
       "35  dead man walking drama a justice drama based o...  \n",
       "36  across the sea of time adventure history drama...  \n",
       "37  it takes two comedy family romance identical 9...  \n",
       "38  clueless comedy drama romance shallow rich and...  \n",
       "39  cry the beloved country drama a south-african ...  \n",
       "40  richard iii drama war shakespeares play transp...  \n",
       "41  dead presidents action crime drama history dep...  \n",
       "42  restoration drama romance an aspiring young ph...  \n",
       "43  mortal kombat action fantasy for nine generati...  \n",
       "44  to die for fantasy drama comedy thriller susan...  \n",
       "45  how to make an american quilt drama romance so...  \n",
       "46  se7en crime mystery thriller two homicide dete...  \n",
       "47  pocahontas adventure animation drama family hi...  \n",
       "48  when night is falling drama romance a prudish ...  \n",
       "49  the usual suspects drama crime thriller held i...  "
      ]
     },
     "execution_count": 34,
     "metadata": {},
     "output_type": "execute_result"
    }
   ],
   "source": [
    "model_df.head(50)"
   ]
  }
 ],
 "metadata": {
  "kernelspec": {
   "display_name": ".venv",
   "language": "python",
   "name": "python3"
  },
  "language_info": {
   "codemirror_mode": {
    "name": "ipython",
    "version": 3
   },
   "file_extension": ".py",
   "mimetype": "text/x-python",
   "name": "python",
   "nbconvert_exporter": "python",
   "pygments_lexer": "ipython3",
   "version": "3.10.8"
  },
  "orig_nbformat": 4
 },
 "nbformat": 4,
 "nbformat_minor": 2
}
