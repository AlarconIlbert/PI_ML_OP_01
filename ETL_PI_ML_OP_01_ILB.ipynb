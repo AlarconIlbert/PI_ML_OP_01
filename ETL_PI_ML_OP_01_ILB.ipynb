{
 "cells": [
  {
   "attachments": {},
   "cell_type": "markdown",
   "metadata": {},
   "source": [
    "<center>\n",
    "\n",
    "## **ETL (Extract - Transform - Load)**<br>\n",
    "**_PROYECTO INDIVIDUAL 1_**<br>\n",
    "\n",
    "</center>\n",
    "\n",
    "**Machine Learning Operations (MLOps)**<br>\n",
    "**Data Scientis:** _Ilbert Ferney Alarcon_ 😎<br>\n",
    "**Cohorte 11**<br>"
   ]
  },
  {
   "attachments": {},
   "cell_type": "markdown",
   "metadata": {},
   "source": [
    "-----------------------------------------"
   ]
  },
  {
   "attachments": {},
   "cell_type": "markdown",
   "metadata": {},
   "source": [
    "## 2. Preparación datos de Peliculas\n",
    "\n",
    "La preparación de datos para el proceso de Extracción, Transformación y Carga (ETL) desempeña un papel fundamental. La primera etapa de este proceso implica la extracción de los datos relevantes de múltiples fuentes, como bases de datos, archivos CSV o APIs de películas. Es importante definir una estrategia adecuada para extraer los datos, asegurando la integridad y la calidad de la información recopilada. Esto puede implicar la selección de las características más relevantes, como titulos, género, director, reparto, calificación y reseñas de películas, para alimentar el sistema de recomendación.\n",
    "\n",
    "Una vez extraídos los datos, la transformación se convierte en una tarea esencial. Esto implica limpiar los datos, manejar valores nulos o faltantes, normalizar los formatos de fechas o categorías, y realizar operaciones de agrupamiento o agregación para obtener información útil. Además, se pueden crear variables adicionales. En resumen, la preparación de datos en un proyecto de recomendación de películas para el ETL implica la extracción y transformación de datos de diversas fuentes, con el objetivo de obtener un conjunto de datos limpios, enriquecidos y estructurados que pueda ser utilizado por el sistema de recomendación para ofrecer recomendaciones precisas y relevantes a los usuarios."
   ]
  },
  {
   "attachments": {},
   "cell_type": "markdown",
   "metadata": {},
   "source": [
    "### 2.1 Cargar Librerias"
   ]
  },
  {
   "cell_type": "code",
   "execution_count": 1,
   "metadata": {},
   "outputs": [],
   "source": [
    "import pandas as pd\n",
    "import numpy as np\n",
    "import seaborn as sns\n",
    "import matplotlib.pyplot as plt\n",
    "import session_info\n",
    "import ydata_profiling as pp\n",
    "import ast"
   ]
  },
  {
   "attachments": {},
   "cell_type": "markdown",
   "metadata": {},
   "source": [
    "### 2.2 Cargar los Datasets con datos"
   ]
  },
  {
   "cell_type": "code",
   "execution_count": 2,
   "metadata": {},
   "outputs": [],
   "source": [
    "movies_df=pd.read_csv('DATASET\\movies_dataset.csv',encoding='Latin-1',low_memory=False)\n",
    "credits_df=pd.read_csv('DATASET\\credits.csv',encoding='Latin-1',low_memory=False)"
   ]
  },
  {
   "attachments": {},
   "cell_type": "markdown",
   "metadata": {},
   "source": [
    "**_`movies_dataset.csv: `_** Esta Dataset contiene la informacion de las peliculas<br>\n",
    "**_`credits.csv: `_** Este Dataset contiene diccionarios con el casting y los creditos de las peliculas contenidas en el Dataset **_`movies_dataset.csv `_** ☝️<br>"
   ]
  },
  {
   "attachments": {},
   "cell_type": "markdown",
   "metadata": {},
   "source": [
    "***Diccionario de Datos***"
   ]
  },
  {
   "attachments": {},
   "cell_type": "markdown",
   "metadata": {},
   "source": [
    "<center>\n",
    "\n",
    "| **Característica** | **Descripción** |\n",
    "| :---------------: | :------------|\n",
    "|adult|_Indica si la película tiene califiación X, exclusiva para adultos._|\n",
    "|belongs_to_collection|_Un diccionario que indica a que franquicia o serie de películas pertenece la película_|\n",
    "|budget|_El presupuesto de la película, en dólares_|\n",
    "|genres|_Un diccionario que indica todos los géneros asociados a la película_|\n",
    "|homepage|_La página web oficial de la película_|\n",
    "|id|_ID de la pelicula_|\n",
    "|imdb_id|_IMDB ID de la pelicula_|\n",
    "|original_language|_Idioma original en la que se grabo la pelicula_|\n",
    "|original_title|_Titulo original de la pelicula_|\n",
    "|overview|_Pequeño resumen de la película_|\n",
    "|popularity|_Puntaje de popularidad de la película, asignado por TMDB (TheMoviesDataBase)_|\n",
    "|poster_path|_URL del póster de la película_|\n",
    "|production_companies|_Lista con las compañias productoras asociadas a la película_|\n",
    "|production_countries|_Lista con los países donde se produjo la película_|\n",
    "|release_date|_Fecha de estreno de la película_|\n",
    "|revenue|_Recaudación de la pelicula, en dolares_|\n",
    "|runtime|_Duración de la película, en minutos_|\n",
    "|spoken_languages|_Lista con los idiomas que se hablan en la pelicula_|\n",
    "|status|_Estado de la pelicula actual (si fue anunciada, si ya se estreno, etc)_|\n",
    "|tagline|_Frase celebre asociadaa la pelicula_|\n",
    "|title|_Titulo de la pelicula_|\n",
    "|video|_Indica si hay o no un trailer en video disponible en TMDB_|\n",
    "|vote_average|_Puntaje promedio de reseñas de la pelicula_|\n",
    "|vote_count|_Numeros de votos recibidos por la pelicula, en TMDB_|\n",
    "\n",
    "<center>"
   ]
  },
  {
   "cell_type": "code",
   "execution_count": 3,
   "metadata": {},
   "outputs": [
    {
     "data": {
      "text/html": [
       "<div>\n",
       "<style scoped>\n",
       "    .dataframe tbody tr th:only-of-type {\n",
       "        vertical-align: middle;\n",
       "    }\n",
       "\n",
       "    .dataframe tbody tr th {\n",
       "        vertical-align: top;\n",
       "    }\n",
       "\n",
       "    .dataframe thead th {\n",
       "        text-align: right;\n",
       "    }\n",
       "</style>\n",
       "<table border=\"1\" class=\"dataframe\">\n",
       "  <thead>\n",
       "    <tr style=\"text-align: right;\">\n",
       "      <th></th>\n",
       "      <th>adult</th>\n",
       "      <th>belongs_to_collection</th>\n",
       "      <th>budget</th>\n",
       "      <th>genres</th>\n",
       "      <th>homepage</th>\n",
       "      <th>id</th>\n",
       "      <th>imdb_id</th>\n",
       "      <th>original_language</th>\n",
       "      <th>original_title</th>\n",
       "      <th>overview</th>\n",
       "      <th>...</th>\n",
       "      <th>release_date</th>\n",
       "      <th>revenue</th>\n",
       "      <th>runtime</th>\n",
       "      <th>spoken_languages</th>\n",
       "      <th>status</th>\n",
       "      <th>tagline</th>\n",
       "      <th>title</th>\n",
       "      <th>video</th>\n",
       "      <th>vote_average</th>\n",
       "      <th>vote_count</th>\n",
       "    </tr>\n",
       "  </thead>\n",
       "  <tbody>\n",
       "    <tr>\n",
       "      <th>0</th>\n",
       "      <td>False</td>\n",
       "      <td>{'id': 10194, 'name': 'Toy Story Collection', ...</td>\n",
       "      <td>30000000</td>\n",
       "      <td>[{'id': 16, 'name': 'Animation'}, {'id': 35, '...</td>\n",
       "      <td>http://toystory.disney.com/toy-story</td>\n",
       "      <td>862</td>\n",
       "      <td>tt0114709</td>\n",
       "      <td>en</td>\n",
       "      <td>Toy Story</td>\n",
       "      <td>Led by Woody, Andy's toys live happily in his ...</td>\n",
       "      <td>...</td>\n",
       "      <td>1995-10-30</td>\n",
       "      <td>373554033.0</td>\n",
       "      <td>81.0</td>\n",
       "      <td>[{'iso_639_1': 'en', 'name': 'English'}]</td>\n",
       "      <td>Released</td>\n",
       "      <td>NaN</td>\n",
       "      <td>Toy Story</td>\n",
       "      <td>False</td>\n",
       "      <td>7.7</td>\n",
       "      <td>5415.0</td>\n",
       "    </tr>\n",
       "    <tr>\n",
       "      <th>1</th>\n",
       "      <td>False</td>\n",
       "      <td>NaN</td>\n",
       "      <td>65000000</td>\n",
       "      <td>[{'id': 12, 'name': 'Adventure'}, {'id': 14, '...</td>\n",
       "      <td>NaN</td>\n",
       "      <td>8844</td>\n",
       "      <td>tt0113497</td>\n",
       "      <td>en</td>\n",
       "      <td>Jumanji</td>\n",
       "      <td>When siblings Judy and Peter discover an encha...</td>\n",
       "      <td>...</td>\n",
       "      <td>1995-12-15</td>\n",
       "      <td>262797249.0</td>\n",
       "      <td>104.0</td>\n",
       "      <td>[{'iso_639_1': 'en', 'name': 'English'}, {'iso...</td>\n",
       "      <td>Released</td>\n",
       "      <td>Roll the dice and unleash the excitement!</td>\n",
       "      <td>Jumanji</td>\n",
       "      <td>False</td>\n",
       "      <td>6.9</td>\n",
       "      <td>2413.0</td>\n",
       "    </tr>\n",
       "    <tr>\n",
       "      <th>2</th>\n",
       "      <td>False</td>\n",
       "      <td>{'id': 119050, 'name': 'Grumpy Old Men Collect...</td>\n",
       "      <td>0</td>\n",
       "      <td>[{'id': 10749, 'name': 'Romance'}, {'id': 35, ...</td>\n",
       "      <td>NaN</td>\n",
       "      <td>15602</td>\n",
       "      <td>tt0113228</td>\n",
       "      <td>en</td>\n",
       "      <td>Grumpier Old Men</td>\n",
       "      <td>A family wedding reignites the ancient feud be...</td>\n",
       "      <td>...</td>\n",
       "      <td>1995-12-22</td>\n",
       "      <td>0.0</td>\n",
       "      <td>101.0</td>\n",
       "      <td>[{'iso_639_1': 'en', 'name': 'English'}]</td>\n",
       "      <td>Released</td>\n",
       "      <td>Still Yelling. Still Fighting. Still Ready for...</td>\n",
       "      <td>Grumpier Old Men</td>\n",
       "      <td>False</td>\n",
       "      <td>6.5</td>\n",
       "      <td>92.0</td>\n",
       "    </tr>\n",
       "  </tbody>\n",
       "</table>\n",
       "<p>3 rows × 24 columns</p>\n",
       "</div>"
      ],
      "text/plain": [
       "   adult                              belongs_to_collection    budget  \\\n",
       "0  False  {'id': 10194, 'name': 'Toy Story Collection', ...  30000000   \n",
       "1  False                                                NaN  65000000   \n",
       "2  False  {'id': 119050, 'name': 'Grumpy Old Men Collect...         0   \n",
       "\n",
       "                                              genres  \\\n",
       "0  [{'id': 16, 'name': 'Animation'}, {'id': 35, '...   \n",
       "1  [{'id': 12, 'name': 'Adventure'}, {'id': 14, '...   \n",
       "2  [{'id': 10749, 'name': 'Romance'}, {'id': 35, ...   \n",
       "\n",
       "                               homepage     id    imdb_id original_language  \\\n",
       "0  http://toystory.disney.com/toy-story    862  tt0114709                en   \n",
       "1                                   NaN   8844  tt0113497                en   \n",
       "2                                   NaN  15602  tt0113228                en   \n",
       "\n",
       "     original_title                                           overview  ...  \\\n",
       "0         Toy Story  Led by Woody, Andy's toys live happily in his ...  ...   \n",
       "1           Jumanji  When siblings Judy and Peter discover an encha...  ...   \n",
       "2  Grumpier Old Men  A family wedding reignites the ancient feud be...  ...   \n",
       "\n",
       "  release_date      revenue runtime  \\\n",
       "0   1995-10-30  373554033.0    81.0   \n",
       "1   1995-12-15  262797249.0   104.0   \n",
       "2   1995-12-22          0.0   101.0   \n",
       "\n",
       "                                    spoken_languages    status  \\\n",
       "0           [{'iso_639_1': 'en', 'name': 'English'}]  Released   \n",
       "1  [{'iso_639_1': 'en', 'name': 'English'}, {'iso...  Released   \n",
       "2           [{'iso_639_1': 'en', 'name': 'English'}]  Released   \n",
       "\n",
       "                                             tagline             title  video  \\\n",
       "0                                                NaN         Toy Story  False   \n",
       "1          Roll the dice and unleash the excitement!           Jumanji  False   \n",
       "2  Still Yelling. Still Fighting. Still Ready for...  Grumpier Old Men  False   \n",
       "\n",
       "  vote_average vote_count  \n",
       "0          7.7     5415.0  \n",
       "1          6.9     2413.0  \n",
       "2          6.5       92.0  \n",
       "\n",
       "[3 rows x 24 columns]"
      ]
     },
     "execution_count": 3,
     "metadata": {},
     "output_type": "execute_result"
    }
   ],
   "source": [
    "movies_df.head(3)"
   ]
  },
  {
   "cell_type": "code",
   "execution_count": 4,
   "metadata": {},
   "outputs": [
    {
     "data": {
      "text/plain": [
       "(45466, 24)"
      ]
     },
     "execution_count": 4,
     "metadata": {},
     "output_type": "execute_result"
    }
   ],
   "source": [
    "movies_df.shape"
   ]
  },
  {
   "attachments": {},
   "cell_type": "markdown",
   "metadata": {},
   "source": [
    "☝️ Como se evidencia en la linea anterior, la base de datos original contiene 45466 registros para 24 columnas, mas adelante veremos que con el proceso de ETL junto con los requerimientos estos registros seran depurados."
   ]
  },
  {
   "attachments": {},
   "cell_type": "markdown",
   "metadata": {},
   "source": [
    "Eliminar registros duplicados filtrados por el ID"
   ]
  },
  {
   "cell_type": "code",
   "execution_count": 5,
   "metadata": {},
   "outputs": [],
   "source": [
    "movies_df.drop_duplicates(subset='id', inplace=True)"
   ]
  },
  {
   "cell_type": "code",
   "execution_count": 6,
   "metadata": {},
   "outputs": [
    {
     "data": {
      "text/plain": [
       "(45436, 24)"
      ]
     },
     "execution_count": 6,
     "metadata": {},
     "output_type": "execute_result"
    }
   ],
   "source": [
    "movies_df.shape"
   ]
  },
  {
   "attachments": {},
   "cell_type": "markdown",
   "metadata": {},
   "source": [
    "### 2.3 Requerimientos MVP (ETL DATASET MOVIES)"
   ]
  },
  {
   "attachments": {},
   "cell_type": "markdown",
   "metadata": {},
   "source": [
    "Algunos campos, como **_`belongs_to_collection`_**, **_`roduction_companies`_** y otros (ver diccionario de datos) están anidados, esto es o bien tienen un diccionario o una lista como valores en cada fila, ¡deberán desanidarlos para poder y unirlos al dataset de nuevo hacer alguna de las consultas de la API! O bien buscar la manera de acceder a esos datos sin desanidarlos."
   ]
  },
  {
   "attachments": {},
   "cell_type": "markdown",
   "metadata": {},
   "source": [
    "#### 2.3.1 Los valores nulos del campo **`release_date`** deben eliminarse."
   ]
  },
  {
   "cell_type": "code",
   "execution_count": 7,
   "metadata": {},
   "outputs": [],
   "source": [
    "movies_df.dropna(subset=['release_date'], inplace=True)"
   ]
  },
  {
   "cell_type": "code",
   "execution_count": 8,
   "metadata": {},
   "outputs": [
    {
     "data": {
      "text/plain": [
       "(45349, 24)"
      ]
     },
     "execution_count": 8,
     "metadata": {},
     "output_type": "execute_result"
    }
   ],
   "source": [
    "movies_df.shape"
   ]
  },
  {
   "attachments": {},
   "cell_type": "markdown",
   "metadata": {},
   "source": [
    "#### 2.3.2 Eliminacion de las columnas que no se usaran en el futuro analisis"
   ]
  },
  {
   "cell_type": "code",
   "execution_count": 9,
   "metadata": {},
   "outputs": [],
   "source": [
    "movies_df.drop(columns=['adult','homepage','imdb_id','original_title','poster_path','video',], inplace=True)"
   ]
  },
  {
   "cell_type": "code",
   "execution_count": 10,
   "metadata": {},
   "outputs": [
    {
     "data": {
      "text/plain": [
       "(45349, 18)"
      ]
     },
     "execution_count": 10,
     "metadata": {},
     "output_type": "execute_result"
    }
   ],
   "source": [
    "movies_df.shape"
   ]
  },
  {
   "attachments": {},
   "cell_type": "markdown",
   "metadata": {},
   "source": [
    "#### 2.3.3 Los valores nulos de los campos **_`revenue`_**, **_`budget`_** deben ser rellenados por el número 0."
   ]
  },
  {
   "attachments": {},
   "cell_type": "markdown",
   "metadata": {},
   "source": [
    "#### 2.3.4 Crear la columna con el retorno de inversión, llamada return con los campos revenue y budget, dividiendo estas dos últimas revenue / budget, cuando no hay datos disponibles para calcularlo, deberá tomar el valor 0."
   ]
  },
  {
   "cell_type": "code",
   "execution_count": 11,
   "metadata": {},
   "outputs": [],
   "source": [
    "movies_df['revenue']=movies_df['revenue'].fillna(0)"
   ]
  },
  {
   "cell_type": "code",
   "execution_count": 12,
   "metadata": {},
   "outputs": [],
   "source": [
    "movies_df['budget']=pd.to_numeric(movies_df['budget'],downcast='float',errors='coerce')\n",
    "movies_df['budget']=movies_df['budget'].fillna(0)\n",
    "movies_df['return']=movies_df['revenue'].divide(movies_df['budget']).fillna(0)"
   ]
  },
  {
   "cell_type": "code",
   "execution_count": 13,
   "metadata": {},
   "outputs": [],
   "source": [
    "movies_df['return'].replace([np.inf, -np.inf], np.nan, inplace=True)\n",
    "movies_df['return'].fillna(0,inplace=True)"
   ]
  },
  {
   "attachments": {},
   "cell_type": "markdown",
   "metadata": {},
   "source": [
    "en la columna Budget se encontraron valores nulos, referentes a imagenes, por lo cual se reemplazar por 0"
   ]
  },
  {
   "attachments": {},
   "cell_type": "markdown",
   "metadata": {},
   "source": [
    "#### 2.3.5 De haber fechas, deberán tener el formato AAAA-mm-dd, además deberán crear la columna release_year donde extraerán el año de la fecha de estreno."
   ]
  },
  {
   "cell_type": "code",
   "execution_count": 14,
   "metadata": {},
   "outputs": [
    {
     "data": {
      "text/html": [
       "<div>\n",
       "<style scoped>\n",
       "    .dataframe tbody tr th:only-of-type {\n",
       "        vertical-align: middle;\n",
       "    }\n",
       "\n",
       "    .dataframe tbody tr th {\n",
       "        vertical-align: top;\n",
       "    }\n",
       "\n",
       "    .dataframe thead th {\n",
       "        text-align: right;\n",
       "    }\n",
       "</style>\n",
       "<table border=\"1\" class=\"dataframe\">\n",
       "  <thead>\n",
       "    <tr style=\"text-align: right;\">\n",
       "      <th></th>\n",
       "      <th>belongs_to_collection</th>\n",
       "      <th>budget</th>\n",
       "      <th>genres</th>\n",
       "      <th>id</th>\n",
       "      <th>original_language</th>\n",
       "      <th>overview</th>\n",
       "      <th>popularity</th>\n",
       "      <th>production_companies</th>\n",
       "      <th>production_countries</th>\n",
       "      <th>release_date</th>\n",
       "      <th>revenue</th>\n",
       "      <th>runtime</th>\n",
       "      <th>spoken_languages</th>\n",
       "      <th>status</th>\n",
       "      <th>tagline</th>\n",
       "      <th>title</th>\n",
       "      <th>vote_average</th>\n",
       "      <th>vote_count</th>\n",
       "      <th>return</th>\n",
       "    </tr>\n",
       "  </thead>\n",
       "  <tbody>\n",
       "    <tr>\n",
       "      <th>19730</th>\n",
       "      <td>0.065736</td>\n",
       "      <td>0.0</td>\n",
       "      <td>[{'name': 'Carousel Productions', 'id': 11176}...</td>\n",
       "      <td>1997-08-20</td>\n",
       "      <td>104.0</td>\n",
       "      <td>Released</td>\n",
       "      <td>NaN</td>\n",
       "      <td>False</td>\n",
       "      <td>6.0</td>\n",
       "      <td>NaT</td>\n",
       "      <td>0.0</td>\n",
       "      <td>NaN</td>\n",
       "      <td>NaN</td>\n",
       "      <td>NaN</td>\n",
       "      <td>NaN</td>\n",
       "      <td>NaN</td>\n",
       "      <td>NaN</td>\n",
       "      <td>NaN</td>\n",
       "      <td>0.0</td>\n",
       "    </tr>\n",
       "    <tr>\n",
       "      <th>29503</th>\n",
       "      <td>1.931659</td>\n",
       "      <td>0.0</td>\n",
       "      <td>[{'name': 'Aniplex', 'id': 2883}, {'name': 'Go...</td>\n",
       "      <td>2012-09-29</td>\n",
       "      <td>68.0</td>\n",
       "      <td>Released</td>\n",
       "      <td>NaN</td>\n",
       "      <td>False</td>\n",
       "      <td>7.0</td>\n",
       "      <td>NaT</td>\n",
       "      <td>0.0</td>\n",
       "      <td>NaN</td>\n",
       "      <td>NaN</td>\n",
       "      <td>NaN</td>\n",
       "      <td>NaN</td>\n",
       "      <td>NaN</td>\n",
       "      <td>NaN</td>\n",
       "      <td>NaN</td>\n",
       "      <td>0.0</td>\n",
       "    </tr>\n",
       "    <tr>\n",
       "      <th>35587</th>\n",
       "      <td>2.185485</td>\n",
       "      <td>0.0</td>\n",
       "      <td>[{'name': 'Odyssey Media', 'id': 17161}, {'nam...</td>\n",
       "      <td>2014-01-01</td>\n",
       "      <td>82.0</td>\n",
       "      <td>Released</td>\n",
       "      <td>Beware Of Frost Bites</td>\n",
       "      <td>False</td>\n",
       "      <td>4.3</td>\n",
       "      <td>NaT</td>\n",
       "      <td>0.0</td>\n",
       "      <td>NaN</td>\n",
       "      <td>NaN</td>\n",
       "      <td>NaN</td>\n",
       "      <td>NaN</td>\n",
       "      <td>NaN</td>\n",
       "      <td>NaN</td>\n",
       "      <td>NaN</td>\n",
       "      <td>0.0</td>\n",
       "    </tr>\n",
       "  </tbody>\n",
       "</table>\n",
       "</div>"
      ],
      "text/plain": [
       "      belongs_to_collection  budget  \\\n",
       "19730              0.065736     0.0   \n",
       "29503              1.931659     0.0   \n",
       "35587              2.185485     0.0   \n",
       "\n",
       "                                                  genres          id  \\\n",
       "19730  [{'name': 'Carousel Productions', 'id': 11176}...  1997-08-20   \n",
       "29503  [{'name': 'Aniplex', 'id': 2883}, {'name': 'Go...  2012-09-29   \n",
       "35587  [{'name': 'Odyssey Media', 'id': 17161}, {'nam...  2014-01-01   \n",
       "\n",
       "      original_language  overview             popularity production_companies  \\\n",
       "19730             104.0  Released                    NaN                False   \n",
       "29503              68.0  Released                    NaN                False   \n",
       "35587              82.0  Released  Beware Of Frost Bites                False   \n",
       "\n",
       "      production_countries release_date  revenue  runtime spoken_languages  \\\n",
       "19730                  6.0          NaT      0.0      NaN              NaN   \n",
       "29503                  7.0          NaT      0.0      NaN              NaN   \n",
       "35587                  4.3          NaT      0.0      NaN              NaN   \n",
       "\n",
       "      status tagline title  vote_average  vote_count  return  \n",
       "19730    NaN     NaN   NaN           NaN         NaN     0.0  \n",
       "29503    NaN     NaN   NaN           NaN         NaN     0.0  \n",
       "35587    NaN     NaN   NaN           NaN         NaN     0.0  "
      ]
     },
     "execution_count": 14,
     "metadata": {},
     "output_type": "execute_result"
    }
   ],
   "source": [
    "movies_df['release_date']=pd.to_datetime(movies_df['release_date'],format='%Y-%m-%d',errors='coerce')\n",
    "movies_df[movies_df['release_date'].isna()]"
   ]
  },
  {
   "cell_type": "code",
   "execution_count": 15,
   "metadata": {},
   "outputs": [],
   "source": [
    "movies_df=movies_df.dropna(subset=['release_date'])"
   ]
  },
  {
   "cell_type": "code",
   "execution_count": 16,
   "metadata": {},
   "outputs": [],
   "source": [
    "movies_df['release_year']=movies_df['release_date'].dt.year"
   ]
  },
  {
   "attachments": {},
   "cell_type": "markdown",
   "metadata": {},
   "source": [
    "#### 2.3.6 Desanidado campo **_`belong to collection`_**<br>\n",
    "\n",
    "Con el siguiente codigo se desempaqueta el campo **_`belong to collection`_**, el cual tiene una estructura de tipo diccionario y en formato json, extrayendo el nombre de los generos de las peliculas junto con su ID_Genero."
   ]
  },
  {
   "cell_type": "code",
   "execution_count": 17,
   "metadata": {},
   "outputs": [],
   "source": [
    "# Rellenar los valores nulos de la columna 'belongs_to_collection' con '{}'\n",
    "movies_df['belongs_to_collection'] = movies_df['belongs_to_collection'].fillna('{}')\n",
    "\n",
    "# Reiniciar los índices del DataFrame\n",
    "movies_df.reset_index(drop=True, inplace=True)\n",
    "\n",
    "# Normalizar los datos JSON en la columna 'belongs_to_collection' y crear un nuevo DataFrame 'df1'\n",
    "df_aux = pd.json_normalize(movies_df['belongs_to_collection'].map(eval))"
   ]
  },
  {
   "cell_type": "code",
   "execution_count": 18,
   "metadata": {},
   "outputs": [],
   "source": [
    "movies_df['collection_name']=df_aux['name']\n",
    "movies_df['idcollection']=df_aux['id']\n",
    "movies_df.drop(columns=['belongs_to_collection'],inplace=True)"
   ]
  },
  {
   "attachments": {},
   "cell_type": "markdown",
   "metadata": {},
   "source": [
    "#### 2.3.7 Desanidado campo **_`genres`_**<br>\n",
    "\n",
    "Con el siguiente codigo se desempaqueta el campo **_`genres`_**, el cual tiene una estructura de tipo diccionario y en formato json, extrayendo el nombre de los generos de las peliculas junto con su ID_Genero."
   ]
  },
  {
   "cell_type": "code",
   "execution_count": 19,
   "metadata": {},
   "outputs": [],
   "source": [
    "# Definir una función lambda para obtener los nombres de una lista de diccionarios\n",
    "get_names = lambda lst: [d['name'] for d in lst]\n",
    "\n",
    "# Definir una función lambda para obtener los IDs de una lista de diccionarios\n",
    "get_id = lambda lst: [d['id'] for d in lst]\n",
    "\n",
    "# Convertir la columna 'genres' del DataFrame en un objeto de lista de diccionarios utilizando map() y eval()\n",
    "movies_df['genres'] = movies_df['genres'].map(eval)\n",
    "\n",
    "# Aplicar la función get_names a la columna 'genres' para obtener los nombres de los géneros\n",
    "movies_df['genres_name'] = movies_df['genres'].apply(get_names)\n",
    "\n",
    "# Aplicar la función get_id a la columna 'genres' para obtener los IDs de los géneros\n",
    "movies_df['idgenres'] = movies_df['genres'].apply(get_id)\n",
    "\n",
    "# Eliminar la columna 'genres' del DataFrame utilizando drop()\n",
    "movies_df.drop(columns='genres', inplace=True)"
   ]
  },
  {
   "attachments": {},
   "cell_type": "markdown",
   "metadata": {},
   "source": [
    "#### 2.3.8 Desanidado campo **_`production_companies`_**<br>\n",
    "\n",
    "Con el siguiente codigo se desempaqueta el campo **_`production_companies`_**, el cual tiene una estructura de tipo diccionario y en formato json, extrayendo el nombre de los generos de las peliculas junto con su ID_Genero."
   ]
  },
  {
   "cell_type": "code",
   "execution_count": 20,
   "metadata": {},
   "outputs": [],
   "source": [
    "def extract_names(row):\n",
    "    if isinstance(row, str):\n",
    "        row = ast.literal_eval(row)\n",
    "    if isinstance(row, list):\n",
    "        names = [entry['name'] for entry in row]\n",
    "        return names\n",
    "    return []\n",
    "\n",
    "\n",
    "def extract_ids(row):\n",
    "    if isinstance(row, str):\n",
    "        row = ast.literal_eval(row)\n",
    "    if isinstance(row, list):\n",
    "        ids = [entry['id'] for entry in row]\n",
    "        return ids\n",
    "    return []\n",
    "\n",
    "\n",
    "def extract_isocode(row):\n",
    "    if isinstance(row, str):\n",
    "        row = ast.literal_eval(row)\n",
    "    if isinstance(row, list):\n",
    "        isocode = [entry['iso_3166_1'] for entry in row]\n",
    "        return isocode\n",
    "    return []\n",
    "\n",
    "\n",
    "def extract_isospoken(row):\n",
    "    if isinstance(row, str):\n",
    "        row = ast.literal_eval(row)\n",
    "    if isinstance(row, list):\n",
    "        isospoken = [entry['iso_639_1'] for entry in row]\n",
    "        return isospoken\n",
    "    return []\n",
    "\n",
    "# Definimos las funciones que seran usadas mas adelante"
   ]
  },
  {
   "cell_type": "code",
   "execution_count": 21,
   "metadata": {},
   "outputs": [],
   "source": [
    "# Aplicar la función a la columna 'data' para crear una nueva columna 'names'\n",
    "movies_df['pcomp_names'] = movies_df['production_companies'].apply(extract_names)\n",
    "movies_df['idpcomp'] = movies_df['production_companies'].apply(extract_ids)\n",
    "\n",
    "# Eliminar la columna 'production_companies' del DataFrame utilizando drop()\n",
    "movies_df.drop(columns='production_companies', inplace=True)"
   ]
  },
  {
   "attachments": {},
   "cell_type": "markdown",
   "metadata": {},
   "source": [
    "#### 2.3.9 Desanidado campo **_`production_countries`_**<br>\n",
    "\n",
    "Con el siguiente codigo se desempaqueta el campo **_`production_countries`_**, el cual tiene una estructura de tipo diccionario y en formato json, extrayendo el nombre de los generos de las peliculas junto con su ID_Genero."
   ]
  },
  {
   "cell_type": "code",
   "execution_count": 22,
   "metadata": {},
   "outputs": [],
   "source": [
    "# Aplicar la función a la columna 'data' para crear una nueva columna 'names'\n",
    "movies_df['pcountries_names'] = movies_df['production_countries'].apply(extract_names)\n",
    "movies_df['iso_pcountries'] = movies_df['production_countries'].apply(extract_isocode)\n",
    "\n",
    "# Eliminar la columna 'production_companies' del DataFrame utilizando drop()\n",
    "movies_df.drop(columns='production_countries', inplace=True)"
   ]
  },
  {
   "attachments": {},
   "cell_type": "markdown",
   "metadata": {},
   "source": [
    "#### 2.3.10 Desanidado campo **_`spoken_languages`_**<br>\n",
    "\n",
    "Con el siguiente codigo se desempaqueta el campo **_`spoken_languages`_**, el cual tiene una estructura de tipo diccionario y en formato json, extrayendo el nombre de los generos de las peliculas junto con su ID_Genero."
   ]
  },
  {
   "cell_type": "code",
   "execution_count": 23,
   "metadata": {},
   "outputs": [],
   "source": [
    "movies_df['spokelang_name'] = movies_df['spoken_languages'].apply(extract_names)\n",
    "movies_df['iso_spokelang'] = movies_df['spoken_languages'].apply(extract_isospoken)\n",
    "\n",
    "# Eliminar la columna 'spoken_languages' del DataFrame utilizando drop()\n",
    "movies_df.drop(columns='spoken_languages', inplace=True)"
   ]
  },
  {
   "cell_type": "code",
   "execution_count": 24,
   "metadata": {},
   "outputs": [
    {
     "data": {
      "text/html": [
       "<div>\n",
       "<style scoped>\n",
       "    .dataframe tbody tr th:only-of-type {\n",
       "        vertical-align: middle;\n",
       "    }\n",
       "\n",
       "    .dataframe tbody tr th {\n",
       "        vertical-align: top;\n",
       "    }\n",
       "\n",
       "    .dataframe thead th {\n",
       "        text-align: right;\n",
       "    }\n",
       "</style>\n",
       "<table border=\"1\" class=\"dataframe\">\n",
       "  <thead>\n",
       "    <tr style=\"text-align: right;\">\n",
       "      <th></th>\n",
       "      <th>budget</th>\n",
       "      <th>id</th>\n",
       "      <th>original_language</th>\n",
       "      <th>overview</th>\n",
       "      <th>popularity</th>\n",
       "      <th>release_date</th>\n",
       "      <th>revenue</th>\n",
       "      <th>runtime</th>\n",
       "      <th>status</th>\n",
       "      <th>tagline</th>\n",
       "      <th>...</th>\n",
       "      <th>collection_name</th>\n",
       "      <th>idcollection</th>\n",
       "      <th>genres_name</th>\n",
       "      <th>idgenres</th>\n",
       "      <th>pcomp_names</th>\n",
       "      <th>idpcomp</th>\n",
       "      <th>pcountries_names</th>\n",
       "      <th>iso_pcountries</th>\n",
       "      <th>spokelang_name</th>\n",
       "      <th>iso_spokelang</th>\n",
       "    </tr>\n",
       "  </thead>\n",
       "  <tbody>\n",
       "    <tr>\n",
       "      <th>0</th>\n",
       "      <td>30000000.0</td>\n",
       "      <td>862</td>\n",
       "      <td>en</td>\n",
       "      <td>Led by Woody, Andy's toys live happily in his ...</td>\n",
       "      <td>21.946943</td>\n",
       "      <td>1995-10-30</td>\n",
       "      <td>373554033.0</td>\n",
       "      <td>81.0</td>\n",
       "      <td>Released</td>\n",
       "      <td>NaN</td>\n",
       "      <td>...</td>\n",
       "      <td>Toy Story Collection</td>\n",
       "      <td>10194.0</td>\n",
       "      <td>[Animation, Comedy, Family]</td>\n",
       "      <td>[16, 35, 10751]</td>\n",
       "      <td>[Pixar Animation Studios]</td>\n",
       "      <td>[3]</td>\n",
       "      <td>[United States of America]</td>\n",
       "      <td>[US]</td>\n",
       "      <td>[English]</td>\n",
       "      <td>[en]</td>\n",
       "    </tr>\n",
       "    <tr>\n",
       "      <th>1</th>\n",
       "      <td>65000000.0</td>\n",
       "      <td>8844</td>\n",
       "      <td>en</td>\n",
       "      <td>When siblings Judy and Peter discover an encha...</td>\n",
       "      <td>17.015539</td>\n",
       "      <td>1995-12-15</td>\n",
       "      <td>262797249.0</td>\n",
       "      <td>104.0</td>\n",
       "      <td>Released</td>\n",
       "      <td>Roll the dice and unleash the excitement!</td>\n",
       "      <td>...</td>\n",
       "      <td>NaN</td>\n",
       "      <td>NaN</td>\n",
       "      <td>[Adventure, Fantasy, Family]</td>\n",
       "      <td>[12, 14, 10751]</td>\n",
       "      <td>[TriStar Pictures, Teitler Film, Interscope Co...</td>\n",
       "      <td>[559, 2550, 10201]</td>\n",
       "      <td>[United States of America]</td>\n",
       "      <td>[US]</td>\n",
       "      <td>[English, FranÃ§ais]</td>\n",
       "      <td>[en, fr]</td>\n",
       "    </tr>\n",
       "    <tr>\n",
       "      <th>2</th>\n",
       "      <td>0.0</td>\n",
       "      <td>15602</td>\n",
       "      <td>en</td>\n",
       "      <td>A family wedding reignites the ancient feud be...</td>\n",
       "      <td>11.7129</td>\n",
       "      <td>1995-12-22</td>\n",
       "      <td>0.0</td>\n",
       "      <td>101.0</td>\n",
       "      <td>Released</td>\n",
       "      <td>Still Yelling. Still Fighting. Still Ready for...</td>\n",
       "      <td>...</td>\n",
       "      <td>Grumpy Old Men Collection</td>\n",
       "      <td>119050.0</td>\n",
       "      <td>[Romance, Comedy]</td>\n",
       "      <td>[10749, 35]</td>\n",
       "      <td>[Warner Bros., Lancaster Gate]</td>\n",
       "      <td>[6194, 19464]</td>\n",
       "      <td>[United States of America]</td>\n",
       "      <td>[US]</td>\n",
       "      <td>[English]</td>\n",
       "      <td>[en]</td>\n",
       "    </tr>\n",
       "  </tbody>\n",
       "</table>\n",
       "<p>3 rows × 25 columns</p>\n",
       "</div>"
      ],
      "text/plain": [
       "       budget     id original_language  \\\n",
       "0  30000000.0    862                en   \n",
       "1  65000000.0   8844                en   \n",
       "2         0.0  15602                en   \n",
       "\n",
       "                                            overview popularity release_date  \\\n",
       "0  Led by Woody, Andy's toys live happily in his ...  21.946943   1995-10-30   \n",
       "1  When siblings Judy and Peter discover an encha...  17.015539   1995-12-15   \n",
       "2  A family wedding reignites the ancient feud be...    11.7129   1995-12-22   \n",
       "\n",
       "       revenue  runtime    status  \\\n",
       "0  373554033.0     81.0  Released   \n",
       "1  262797249.0    104.0  Released   \n",
       "2          0.0    101.0  Released   \n",
       "\n",
       "                                             tagline  ...  \\\n",
       "0                                                NaN  ...   \n",
       "1          Roll the dice and unleash the excitement!  ...   \n",
       "2  Still Yelling. Still Fighting. Still Ready for...  ...   \n",
       "\n",
       "             collection_name  idcollection                   genres_name  \\\n",
       "0       Toy Story Collection       10194.0   [Animation, Comedy, Family]   \n",
       "1                        NaN           NaN  [Adventure, Fantasy, Family]   \n",
       "2  Grumpy Old Men Collection      119050.0             [Romance, Comedy]   \n",
       "\n",
       "          idgenres                                        pcomp_names  \\\n",
       "0  [16, 35, 10751]                          [Pixar Animation Studios]   \n",
       "1  [12, 14, 10751]  [TriStar Pictures, Teitler Film, Interscope Co...   \n",
       "2      [10749, 35]                     [Warner Bros., Lancaster Gate]   \n",
       "\n",
       "              idpcomp            pcountries_names iso_pcountries  \\\n",
       "0                 [3]  [United States of America]           [US]   \n",
       "1  [559, 2550, 10201]  [United States of America]           [US]   \n",
       "2       [6194, 19464]  [United States of America]           [US]   \n",
       "\n",
       "         spokelang_name iso_spokelang  \n",
       "0             [English]          [en]  \n",
       "1  [English, FranÃ§ais]      [en, fr]  \n",
       "2             [English]          [en]  \n",
       "\n",
       "[3 rows x 25 columns]"
      ]
     },
     "execution_count": 24,
     "metadata": {},
     "output_type": "execute_result"
    }
   ],
   "source": [
    "movies_df.head(3)"
   ]
  },
  {
   "attachments": {},
   "cell_type": "markdown",
   "metadata": {},
   "source": [
    "----------------------"
   ]
  },
  {
   "attachments": {},
   "cell_type": "markdown",
   "metadata": {},
   "source": [
    "### 2.4 ¿Cuál es la proporción de valores nulos por cada variable?"
   ]
  },
  {
   "cell_type": "code",
   "execution_count": 25,
   "metadata": {},
   "outputs": [
    {
     "data": {
      "image/png": "[encoded data removed]",
      "text/plain": [
       "<Figure size 2084.88x500 with 1 Axes>"
      ]
     },
     "metadata": {},
     "output_type": "display_data"
    }
   ],
   "source": [
    "(\n",
    "    movies_df\n",
    "    .isnull()\n",
    "    .melt()\n",
    "    .pipe(\n",
    "        lambda df:(\n",
    "            sns.displot(\n",
    "                data=df,\n",
    "                y='variable',\n",
    "                hue='value',\n",
    "                multiple='fill',\n",
    "                aspect=4\n",
    "            )\n",
    "        )\n",
    "    )\n",
    ")\n",
    "plt.show()"
   ]
  },
  {
   "attachments": {},
   "cell_type": "markdown",
   "metadata": {},
   "source": [
    "Adicional de las indicaciones realizadas en el MVP se realiza la eliminacion de las siguientes columnas ya que como se muestra en la grafica anterior contienen muchos valores nulos lo cual no infiere en el analisis"
   ]
  },
  {
   "cell_type": "code",
   "execution_count": 26,
   "metadata": {},
   "outputs": [],
   "source": [
    "movies_df.drop(columns=['collection_name'], inplace=True)\n",
    "movies_df.drop(columns=['idcollection'], inplace=True)\n",
    "movies_df.drop(columns=['tagline'], inplace=True)"
   ]
  },
  {
   "attachments": {},
   "cell_type": "markdown",
   "metadata": {},
   "source": [
    "belongs_to_collection: Se elimina por la gran cantidad de valores nulos<br>\n",
    "tagline: Se elimina por la gran cantidad de valores nulos\n",
    "\n"
   ]
  },
  {
   "cell_type": "code",
   "execution_count": 27,
   "metadata": {},
   "outputs": [],
   "source": [
    "movies_df['budget']=pd.to_numeric(movies_df['budget'],downcast='float',errors='coerce')\n",
    "movies_df['budget']=movies_df['budget'].fillna(0)"
   ]
  },
  {
   "attachments": {},
   "cell_type": "markdown",
   "metadata": {},
   "source": [
    "Transformacion de tipos de variables"
   ]
  },
  {
   "cell_type": "code",
   "execution_count": 28,
   "metadata": {},
   "outputs": [],
   "source": [
    "movies_df['id']=pd.to_numeric(movies_df['id'],downcast='integer',errors='coerce')\n",
    "movies_df['id']=movies_df['id'].fillna(0)\n"
   ]
  },
  {
   "cell_type": "code",
   "execution_count": 29,
   "metadata": {},
   "outputs": [],
   "source": [
    "movies_df['popularity']=pd.to_numeric(movies_df['popularity'],downcast='float',errors='coerce')\n",
    "movies_df['popularity']=movies_df['popularity'].fillna(0)"
   ]
  },
  {
   "cell_type": "code",
   "execution_count": 30,
   "metadata": {},
   "outputs": [
    {
     "name": "stdout",
     "output_type": "stream",
     "text": [
      "<class 'pandas.core.frame.DataFrame'>\n",
      "RangeIndex: 45346 entries, 0 to 45345\n",
      "Data columns (total 22 columns):\n",
      " #   Column             Non-Null Count  Dtype         \n",
      "---  ------             --------------  -----         \n",
      " 0   budget             45346 non-null  float64       \n",
      " 1   id                 45346 non-null  int32         \n",
      " 2   original_language  45335 non-null  object        \n",
      " 3   overview           44405 non-null  object        \n",
      " 4   popularity         45346 non-null  float32       \n",
      " 5   release_date       45346 non-null  datetime64[ns]\n",
      " 6   revenue            45346 non-null  float64       \n",
      " 7   runtime            45100 non-null  float64       \n",
      " 8   status             45266 non-null  object        \n",
      " 9   title              45346 non-null  object        \n",
      " 10  vote_average       45346 non-null  float64       \n",
      " 11  vote_count         45346 non-null  float64       \n",
      " 12  return             45346 non-null  float64       \n",
      " 13  release_year       45346 non-null  int64         \n",
      " 14  genres_name        45346 non-null  object        \n",
      " 15  idgenres           45346 non-null  object        \n",
      " 16  pcomp_names        45346 non-null  object        \n",
      " 17  idpcomp            45346 non-null  object        \n",
      " 18  pcountries_names   45346 non-null  object        \n",
      " 19  iso_pcountries     45346 non-null  object        \n",
      " 20  spokelang_name     45346 non-null  object        \n",
      " 21  iso_spokelang      45346 non-null  object        \n",
      "dtypes: datetime64[ns](1), float32(1), float64(6), int32(1), int64(1), object(12)\n",
      "memory usage: 7.3+ MB\n"
     ]
    }
   ],
   "source": [
    "movies_df.info()"
   ]
  },
  {
   "cell_type": "code",
   "execution_count": 31,
   "metadata": {},
   "outputs": [
    {
     "data": {
      "text/html": [
       "<div>\n",
       "<style scoped>\n",
       "    .dataframe tbody tr th:only-of-type {\n",
       "        vertical-align: middle;\n",
       "    }\n",
       "\n",
       "    .dataframe tbody tr th {\n",
       "        vertical-align: top;\n",
       "    }\n",
       "\n",
       "    .dataframe thead th {\n",
       "        text-align: right;\n",
       "    }\n",
       "</style>\n",
       "<table border=\"1\" class=\"dataframe\">\n",
       "  <thead>\n",
       "    <tr style=\"text-align: right;\">\n",
       "      <th></th>\n",
       "      <th>budget</th>\n",
       "      <th>id</th>\n",
       "      <th>original_language</th>\n",
       "      <th>overview</th>\n",
       "      <th>popularity</th>\n",
       "      <th>release_date</th>\n",
       "      <th>revenue</th>\n",
       "      <th>runtime</th>\n",
       "      <th>status</th>\n",
       "      <th>title</th>\n",
       "      <th>...</th>\n",
       "      <th>return</th>\n",
       "      <th>release_year</th>\n",
       "      <th>genres_name</th>\n",
       "      <th>idgenres</th>\n",
       "      <th>pcomp_names</th>\n",
       "      <th>idpcomp</th>\n",
       "      <th>pcountries_names</th>\n",
       "      <th>iso_pcountries</th>\n",
       "      <th>spokelang_name</th>\n",
       "      <th>iso_spokelang</th>\n",
       "    </tr>\n",
       "  </thead>\n",
       "  <tbody>\n",
       "    <tr>\n",
       "      <th>0</th>\n",
       "      <td>30000000.0</td>\n",
       "      <td>862</td>\n",
       "      <td>en</td>\n",
       "      <td>Led by Woody, Andy's toys live happily in his ...</td>\n",
       "      <td>21.946943</td>\n",
       "      <td>1995-10-30</td>\n",
       "      <td>373554033.0</td>\n",
       "      <td>81.0</td>\n",
       "      <td>Released</td>\n",
       "      <td>Toy Story</td>\n",
       "      <td>...</td>\n",
       "      <td>12.451801</td>\n",
       "      <td>1995</td>\n",
       "      <td>[Animation, Comedy, Family]</td>\n",
       "      <td>[16, 35, 10751]</td>\n",
       "      <td>[Pixar Animation Studios]</td>\n",
       "      <td>[3]</td>\n",
       "      <td>[United States of America]</td>\n",
       "      <td>[US]</td>\n",
       "      <td>[English]</td>\n",
       "      <td>[en]</td>\n",
       "    </tr>\n",
       "    <tr>\n",
       "      <th>1</th>\n",
       "      <td>65000000.0</td>\n",
       "      <td>8844</td>\n",
       "      <td>en</td>\n",
       "      <td>When siblings Judy and Peter discover an encha...</td>\n",
       "      <td>17.015539</td>\n",
       "      <td>1995-12-15</td>\n",
       "      <td>262797249.0</td>\n",
       "      <td>104.0</td>\n",
       "      <td>Released</td>\n",
       "      <td>Jumanji</td>\n",
       "      <td>...</td>\n",
       "      <td>4.043035</td>\n",
       "      <td>1995</td>\n",
       "      <td>[Adventure, Fantasy, Family]</td>\n",
       "      <td>[12, 14, 10751]</td>\n",
       "      <td>[TriStar Pictures, Teitler Film, Interscope Co...</td>\n",
       "      <td>[559, 2550, 10201]</td>\n",
       "      <td>[United States of America]</td>\n",
       "      <td>[US]</td>\n",
       "      <td>[English, FranÃ§ais]</td>\n",
       "      <td>[en, fr]</td>\n",
       "    </tr>\n",
       "    <tr>\n",
       "      <th>2</th>\n",
       "      <td>0.0</td>\n",
       "      <td>15602</td>\n",
       "      <td>en</td>\n",
       "      <td>A family wedding reignites the ancient feud be...</td>\n",
       "      <td>11.712900</td>\n",
       "      <td>1995-12-22</td>\n",
       "      <td>0.0</td>\n",
       "      <td>101.0</td>\n",
       "      <td>Released</td>\n",
       "      <td>Grumpier Old Men</td>\n",
       "      <td>...</td>\n",
       "      <td>0.000000</td>\n",
       "      <td>1995</td>\n",
       "      <td>[Romance, Comedy]</td>\n",
       "      <td>[10749, 35]</td>\n",
       "      <td>[Warner Bros., Lancaster Gate]</td>\n",
       "      <td>[6194, 19464]</td>\n",
       "      <td>[United States of America]</td>\n",
       "      <td>[US]</td>\n",
       "      <td>[English]</td>\n",
       "      <td>[en]</td>\n",
       "    </tr>\n",
       "  </tbody>\n",
       "</table>\n",
       "<p>3 rows × 22 columns</p>\n",
       "</div>"
      ],
      "text/plain": [
       "       budget     id original_language  \\\n",
       "0  30000000.0    862                en   \n",
       "1  65000000.0   8844                en   \n",
       "2         0.0  15602                en   \n",
       "\n",
       "                                            overview  popularity release_date  \\\n",
       "0  Led by Woody, Andy's toys live happily in his ...   21.946943   1995-10-30   \n",
       "1  When siblings Judy and Peter discover an encha...   17.015539   1995-12-15   \n",
       "2  A family wedding reignites the ancient feud be...   11.712900   1995-12-22   \n",
       "\n",
       "       revenue  runtime    status             title  ...     return  \\\n",
       "0  373554033.0     81.0  Released         Toy Story  ...  12.451801   \n",
       "1  262797249.0    104.0  Released           Jumanji  ...   4.043035   \n",
       "2          0.0    101.0  Released  Grumpier Old Men  ...   0.000000   \n",
       "\n",
       "   release_year                   genres_name         idgenres  \\\n",
       "0          1995   [Animation, Comedy, Family]  [16, 35, 10751]   \n",
       "1          1995  [Adventure, Fantasy, Family]  [12, 14, 10751]   \n",
       "2          1995             [Romance, Comedy]      [10749, 35]   \n",
       "\n",
       "                                         pcomp_names             idpcomp  \\\n",
       "0                          [Pixar Animation Studios]                 [3]   \n",
       "1  [TriStar Pictures, Teitler Film, Interscope Co...  [559, 2550, 10201]   \n",
       "2                     [Warner Bros., Lancaster Gate]       [6194, 19464]   \n",
       "\n",
       "             pcountries_names iso_pcountries        spokelang_name  \\\n",
       "0  [United States of America]           [US]             [English]   \n",
       "1  [United States of America]           [US]  [English, FranÃ§ais]   \n",
       "2  [United States of America]           [US]             [English]   \n",
       "\n",
       "  iso_spokelang  \n",
       "0          [en]  \n",
       "1      [en, fr]  \n",
       "2          [en]  \n",
       "\n",
       "[3 rows x 22 columns]"
      ]
     },
     "execution_count": 31,
     "metadata": {},
     "output_type": "execute_result"
    }
   ],
   "source": [
    "movies_df.head(3)"
   ]
  },
  {
   "attachments": {},
   "cell_type": "markdown",
   "metadata": {},
   "source": [
    "### 2.5 ETL DATASET CREDITS"
   ]
  },
  {
   "cell_type": "code",
   "execution_count": 32,
   "metadata": {},
   "outputs": [
    {
     "data": {
      "text/html": [
       "<div>\n",
       "<style scoped>\n",
       "    .dataframe tbody tr th:only-of-type {\n",
       "        vertical-align: middle;\n",
       "    }\n",
       "\n",
       "    .dataframe tbody tr th {\n",
       "        vertical-align: top;\n",
       "    }\n",
       "\n",
       "    .dataframe thead th {\n",
       "        text-align: right;\n",
       "    }\n",
       "</style>\n",
       "<table border=\"1\" class=\"dataframe\">\n",
       "  <thead>\n",
       "    <tr style=\"text-align: right;\">\n",
       "      <th></th>\n",
       "      <th>cast</th>\n",
       "      <th>crew</th>\n",
       "      <th>id</th>\n",
       "    </tr>\n",
       "  </thead>\n",
       "  <tbody>\n",
       "    <tr>\n",
       "      <th>0</th>\n",
       "      <td>[{'cast_id': 14, 'character': 'Woody (voice)',...</td>\n",
       "      <td>[{'credit_id': '52fe4284c3a36847f8024f49', 'de...</td>\n",
       "      <td>862</td>\n",
       "    </tr>\n",
       "    <tr>\n",
       "      <th>1</th>\n",
       "      <td>[{'cast_id': 1, 'character': 'Alan Parrish', '...</td>\n",
       "      <td>[{'credit_id': '52fe44bfc3a36847f80a7cd1', 'de...</td>\n",
       "      <td>8844</td>\n",
       "    </tr>\n",
       "    <tr>\n",
       "      <th>2</th>\n",
       "      <td>[{'cast_id': 2, 'character': 'Max Goldman', 'c...</td>\n",
       "      <td>[{'credit_id': '52fe466a9251416c75077a89', 'de...</td>\n",
       "      <td>15602</td>\n",
       "    </tr>\n",
       "  </tbody>\n",
       "</table>\n",
       "</div>"
      ],
      "text/plain": [
       "                                                cast  \\\n",
       "0  [{'cast_id': 14, 'character': 'Woody (voice)',...   \n",
       "1  [{'cast_id': 1, 'character': 'Alan Parrish', '...   \n",
       "2  [{'cast_id': 2, 'character': 'Max Goldman', 'c...   \n",
       "\n",
       "                                                crew     id  \n",
       "0  [{'credit_id': '52fe4284c3a36847f8024f49', 'de...    862  \n",
       "1  [{'credit_id': '52fe44bfc3a36847f80a7cd1', 'de...   8844  \n",
       "2  [{'credit_id': '52fe466a9251416c75077a89', 'de...  15602  "
      ]
     },
     "execution_count": 32,
     "metadata": {},
     "output_type": "execute_result"
    }
   ],
   "source": [
    "credits_df.head(3)"
   ]
  },
  {
   "cell_type": "code",
   "execution_count": 33,
   "metadata": {},
   "outputs": [
    {
     "data": {
      "text/plain": [
       "(45476, 3)"
      ]
     },
     "execution_count": 33,
     "metadata": {},
     "output_type": "execute_result"
    }
   ],
   "source": [
    "credits_df.shape"
   ]
  },
  {
   "cell_type": "code",
   "execution_count": 34,
   "metadata": {},
   "outputs": [
    {
     "data": {
      "text/plain": [
       "(45432, 3)"
      ]
     },
     "execution_count": 34,
     "metadata": {},
     "output_type": "execute_result"
    }
   ],
   "source": [
    "credits_df.drop_duplicates(subset='id', inplace=True)\n",
    "credits_df.shape"
   ]
  },
  {
   "cell_type": "code",
   "execution_count": 35,
   "metadata": {},
   "outputs": [],
   "source": [
    "# Función para extraer los nombres de 'name' en cada lista de diccionarios\n",
    "def extract_names(row):\n",
    "    if isinstance(row, str):\n",
    "        row = ast.literal_eval(row)\n",
    "    names = [entry['name'] for entry in row]\n",
    "    return names\n",
    "\n",
    "# Función para extraer los valores de 'id' en cada lista de diccionarios\n",
    "def extract_ids(row):\n",
    "    if isinstance(row, str):\n",
    "        row = ast.literal_eval(row)\n",
    "    ids = [entry['id'] for entry in row]\n",
    "    return ids"
   ]
  },
  {
   "cell_type": "code",
   "execution_count": 36,
   "metadata": {},
   "outputs": [],
   "source": [
    "# Aplicar la función a la columna 'data' para crear una nueva columna 'names'\n",
    "credits_df['namescast'] = credits_df['cast'].apply(extract_names)\n",
    "\n",
    "# Aplicar la función a la columna 'data' para crear una nueva columna 'ids'\n",
    "credits_df['idcast'] = credits_df['cast'].apply(extract_ids)"
   ]
  },
  {
   "cell_type": "code",
   "execution_count": 37,
   "metadata": {},
   "outputs": [],
   "source": [
    "# Convertir los datos de la columna 'crew' en una lista de diccionarios\n",
    "credits_df['crew'] = credits_df['crew'].apply(eval)\n",
    "\n",
    "# Función para extraer los campos 'Director' y 'name'\n",
    "def extract_director_name(crew_data):\n",
    "    directors = []\n",
    "    for member in crew_data:\n",
    "        if member['job'] == 'Director':\n",
    "            directors.append(member['name'])\n",
    "    return directors"
   ]
  },
  {
   "cell_type": "code",
   "execution_count": 38,
   "metadata": {},
   "outputs": [],
   "source": [
    "# Aplicar la función a la columna 'crew' y guardar los resultados en una nueva columna 'directors'\n",
    "credits_df['directors'] = credits_df['crew'].apply(extract_director_name)"
   ]
  },
  {
   "cell_type": "code",
   "execution_count": 39,
   "metadata": {},
   "outputs": [],
   "source": [
    "credits_df.drop(columns=['cast','crew'], inplace=True)"
   ]
  },
  {
   "cell_type": "code",
   "execution_count": 40,
   "metadata": {},
   "outputs": [
    {
     "data": {
      "text/html": [
       "<div>\n",
       "<style scoped>\n",
       "    .dataframe tbody tr th:only-of-type {\n",
       "        vertical-align: middle;\n",
       "    }\n",
       "\n",
       "    .dataframe tbody tr th {\n",
       "        vertical-align: top;\n",
       "    }\n",
       "\n",
       "    .dataframe thead th {\n",
       "        text-align: right;\n",
       "    }\n",
       "</style>\n",
       "<table border=\"1\" class=\"dataframe\">\n",
       "  <thead>\n",
       "    <tr style=\"text-align: right;\">\n",
       "      <th></th>\n",
       "      <th>id</th>\n",
       "      <th>namescast</th>\n",
       "      <th>idcast</th>\n",
       "      <th>directors</th>\n",
       "    </tr>\n",
       "  </thead>\n",
       "  <tbody>\n",
       "    <tr>\n",
       "      <th>0</th>\n",
       "      <td>862</td>\n",
       "      <td>[Tom Hanks, Tim Allen, Don Rickles, Jim Varney...</td>\n",
       "      <td>[31, 12898, 7167, 12899, 12900, 7907, 8873, 11...</td>\n",
       "      <td>[John Lasseter]</td>\n",
       "    </tr>\n",
       "    <tr>\n",
       "      <th>1</th>\n",
       "      <td>8844</td>\n",
       "      <td>[Robin Williams, Jonathan Hyde, Kirsten Dunst,...</td>\n",
       "      <td>[2157, 8537, 205, 145151, 5149, 10739, 58563, ...</td>\n",
       "      <td>[Joe Johnston]</td>\n",
       "    </tr>\n",
       "    <tr>\n",
       "      <th>2</th>\n",
       "      <td>15602</td>\n",
       "      <td>[Walter Matthau, Jack Lemmon, Ann-Margret, Sop...</td>\n",
       "      <td>[6837, 3151, 13567, 16757, 589, 16523, 7166]</td>\n",
       "      <td>[Howard Deutch]</td>\n",
       "    </tr>\n",
       "  </tbody>\n",
       "</table>\n",
       "</div>"
      ],
      "text/plain": [
       "      id                                          namescast  \\\n",
       "0    862  [Tom Hanks, Tim Allen, Don Rickles, Jim Varney...   \n",
       "1   8844  [Robin Williams, Jonathan Hyde, Kirsten Dunst,...   \n",
       "2  15602  [Walter Matthau, Jack Lemmon, Ann-Margret, Sop...   \n",
       "\n",
       "                                              idcast        directors  \n",
       "0  [31, 12898, 7167, 12899, 12900, 7907, 8873, 11...  [John Lasseter]  \n",
       "1  [2157, 8537, 205, 145151, 5149, 10739, 58563, ...   [Joe Johnston]  \n",
       "2       [6837, 3151, 13567, 16757, 589, 16523, 7166]  [Howard Deutch]  "
      ]
     },
     "execution_count": 40,
     "metadata": {},
     "output_type": "execute_result"
    }
   ],
   "source": [
    "credits_df.head(3)"
   ]
  },
  {
   "attachments": {},
   "cell_type": "markdown",
   "metadata": {},
   "source": [
    "-------------------------"
   ]
  },
  {
   "attachments": {},
   "cell_type": "markdown",
   "metadata": {},
   "source": [
    "### 2.6 Generar Dataset ETL"
   ]
  },
  {
   "cell_type": "code",
   "execution_count": 41,
   "metadata": {},
   "outputs": [
    {
     "data": {
      "text/html": [
       "<div>\n",
       "<style scoped>\n",
       "    .dataframe tbody tr th:only-of-type {\n",
       "        vertical-align: middle;\n",
       "    }\n",
       "\n",
       "    .dataframe tbody tr th {\n",
       "        vertical-align: top;\n",
       "    }\n",
       "\n",
       "    .dataframe thead th {\n",
       "        text-align: right;\n",
       "    }\n",
       "</style>\n",
       "<table border=\"1\" class=\"dataframe\">\n",
       "  <thead>\n",
       "    <tr style=\"text-align: right;\">\n",
       "      <th></th>\n",
       "      <th>budget</th>\n",
       "      <th>id</th>\n",
       "      <th>original_language</th>\n",
       "      <th>overview</th>\n",
       "      <th>popularity</th>\n",
       "      <th>release_date</th>\n",
       "      <th>revenue</th>\n",
       "      <th>runtime</th>\n",
       "      <th>status</th>\n",
       "      <th>title</th>\n",
       "      <th>...</th>\n",
       "      <th>return</th>\n",
       "      <th>release_year</th>\n",
       "      <th>genres_name</th>\n",
       "      <th>idgenres</th>\n",
       "      <th>pcomp_names</th>\n",
       "      <th>idpcomp</th>\n",
       "      <th>pcountries_names</th>\n",
       "      <th>iso_pcountries</th>\n",
       "      <th>spokelang_name</th>\n",
       "      <th>iso_spokelang</th>\n",
       "    </tr>\n",
       "  </thead>\n",
       "  <tbody>\n",
       "    <tr>\n",
       "      <th>0</th>\n",
       "      <td>30000000.0</td>\n",
       "      <td>862</td>\n",
       "      <td>en</td>\n",
       "      <td>Led by Woody, Andy's toys live happily in his ...</td>\n",
       "      <td>21.946943</td>\n",
       "      <td>1995-10-30</td>\n",
       "      <td>373554033.0</td>\n",
       "      <td>81.0</td>\n",
       "      <td>Released</td>\n",
       "      <td>Toy Story</td>\n",
       "      <td>...</td>\n",
       "      <td>12.451801</td>\n",
       "      <td>1995</td>\n",
       "      <td>[Animation, Comedy, Family]</td>\n",
       "      <td>[16, 35, 10751]</td>\n",
       "      <td>[Pixar Animation Studios]</td>\n",
       "      <td>[3]</td>\n",
       "      <td>[United States of America]</td>\n",
       "      <td>[US]</td>\n",
       "      <td>[English]</td>\n",
       "      <td>[en]</td>\n",
       "    </tr>\n",
       "    <tr>\n",
       "      <th>1</th>\n",
       "      <td>65000000.0</td>\n",
       "      <td>8844</td>\n",
       "      <td>en</td>\n",
       "      <td>When siblings Judy and Peter discover an encha...</td>\n",
       "      <td>17.015539</td>\n",
       "      <td>1995-12-15</td>\n",
       "      <td>262797249.0</td>\n",
       "      <td>104.0</td>\n",
       "      <td>Released</td>\n",
       "      <td>Jumanji</td>\n",
       "      <td>...</td>\n",
       "      <td>4.043035</td>\n",
       "      <td>1995</td>\n",
       "      <td>[Adventure, Fantasy, Family]</td>\n",
       "      <td>[12, 14, 10751]</td>\n",
       "      <td>[TriStar Pictures, Teitler Film, Interscope Co...</td>\n",
       "      <td>[559, 2550, 10201]</td>\n",
       "      <td>[United States of America]</td>\n",
       "      <td>[US]</td>\n",
       "      <td>[English, FranÃ§ais]</td>\n",
       "      <td>[en, fr]</td>\n",
       "    </tr>\n",
       "    <tr>\n",
       "      <th>2</th>\n",
       "      <td>0.0</td>\n",
       "      <td>15602</td>\n",
       "      <td>en</td>\n",
       "      <td>A family wedding reignites the ancient feud be...</td>\n",
       "      <td>11.712900</td>\n",
       "      <td>1995-12-22</td>\n",
       "      <td>0.0</td>\n",
       "      <td>101.0</td>\n",
       "      <td>Released</td>\n",
       "      <td>Grumpier Old Men</td>\n",
       "      <td>...</td>\n",
       "      <td>0.000000</td>\n",
       "      <td>1995</td>\n",
       "      <td>[Romance, Comedy]</td>\n",
       "      <td>[10749, 35]</td>\n",
       "      <td>[Warner Bros., Lancaster Gate]</td>\n",
       "      <td>[6194, 19464]</td>\n",
       "      <td>[United States of America]</td>\n",
       "      <td>[US]</td>\n",
       "      <td>[English]</td>\n",
       "      <td>[en]</td>\n",
       "    </tr>\n",
       "  </tbody>\n",
       "</table>\n",
       "<p>3 rows × 22 columns</p>\n",
       "</div>"
      ],
      "text/plain": [
       "       budget     id original_language  \\\n",
       "0  30000000.0    862                en   \n",
       "1  65000000.0   8844                en   \n",
       "2         0.0  15602                en   \n",
       "\n",
       "                                            overview  popularity release_date  \\\n",
       "0  Led by Woody, Andy's toys live happily in his ...   21.946943   1995-10-30   \n",
       "1  When siblings Judy and Peter discover an encha...   17.015539   1995-12-15   \n",
       "2  A family wedding reignites the ancient feud be...   11.712900   1995-12-22   \n",
       "\n",
       "       revenue  runtime    status             title  ...     return  \\\n",
       "0  373554033.0     81.0  Released         Toy Story  ...  12.451801   \n",
       "1  262797249.0    104.0  Released           Jumanji  ...   4.043035   \n",
       "2          0.0    101.0  Released  Grumpier Old Men  ...   0.000000   \n",
       "\n",
       "   release_year                   genres_name         idgenres  \\\n",
       "0          1995   [Animation, Comedy, Family]  [16, 35, 10751]   \n",
       "1          1995  [Adventure, Fantasy, Family]  [12, 14, 10751]   \n",
       "2          1995             [Romance, Comedy]      [10749, 35]   \n",
       "\n",
       "                                         pcomp_names             idpcomp  \\\n",
       "0                          [Pixar Animation Studios]                 [3]   \n",
       "1  [TriStar Pictures, Teitler Film, Interscope Co...  [559, 2550, 10201]   \n",
       "2                     [Warner Bros., Lancaster Gate]       [6194, 19464]   \n",
       "\n",
       "             pcountries_names iso_pcountries        spokelang_name  \\\n",
       "0  [United States of America]           [US]             [English]   \n",
       "1  [United States of America]           [US]  [English, FranÃ§ais]   \n",
       "2  [United States of America]           [US]             [English]   \n",
       "\n",
       "  iso_spokelang  \n",
       "0          [en]  \n",
       "1      [en, fr]  \n",
       "2          [en]  \n",
       "\n",
       "[3 rows x 22 columns]"
      ]
     },
     "execution_count": 41,
     "metadata": {},
     "output_type": "execute_result"
    }
   ],
   "source": [
    "movies_df.head(3)"
   ]
  },
  {
   "cell_type": "code",
   "execution_count": 42,
   "metadata": {},
   "outputs": [
    {
     "data": {
      "text/html": [
       "<div>\n",
       "<style scoped>\n",
       "    .dataframe tbody tr th:only-of-type {\n",
       "        vertical-align: middle;\n",
       "    }\n",
       "\n",
       "    .dataframe tbody tr th {\n",
       "        vertical-align: top;\n",
       "    }\n",
       "\n",
       "    .dataframe thead th {\n",
       "        text-align: right;\n",
       "    }\n",
       "</style>\n",
       "<table border=\"1\" class=\"dataframe\">\n",
       "  <thead>\n",
       "    <tr style=\"text-align: right;\">\n",
       "      <th></th>\n",
       "      <th>id</th>\n",
       "      <th>namescast</th>\n",
       "      <th>idcast</th>\n",
       "      <th>directors</th>\n",
       "    </tr>\n",
       "  </thead>\n",
       "  <tbody>\n",
       "    <tr>\n",
       "      <th>0</th>\n",
       "      <td>862</td>\n",
       "      <td>[Tom Hanks, Tim Allen, Don Rickles, Jim Varney...</td>\n",
       "      <td>[31, 12898, 7167, 12899, 12900, 7907, 8873, 11...</td>\n",
       "      <td>[John Lasseter]</td>\n",
       "    </tr>\n",
       "    <tr>\n",
       "      <th>1</th>\n",
       "      <td>8844</td>\n",
       "      <td>[Robin Williams, Jonathan Hyde, Kirsten Dunst,...</td>\n",
       "      <td>[2157, 8537, 205, 145151, 5149, 10739, 58563, ...</td>\n",
       "      <td>[Joe Johnston]</td>\n",
       "    </tr>\n",
       "    <tr>\n",
       "      <th>2</th>\n",
       "      <td>15602</td>\n",
       "      <td>[Walter Matthau, Jack Lemmon, Ann-Margret, Sop...</td>\n",
       "      <td>[6837, 3151, 13567, 16757, 589, 16523, 7166]</td>\n",
       "      <td>[Howard Deutch]</td>\n",
       "    </tr>\n",
       "  </tbody>\n",
       "</table>\n",
       "</div>"
      ],
      "text/plain": [
       "      id                                          namescast  \\\n",
       "0    862  [Tom Hanks, Tim Allen, Don Rickles, Jim Varney...   \n",
       "1   8844  [Robin Williams, Jonathan Hyde, Kirsten Dunst,...   \n",
       "2  15602  [Walter Matthau, Jack Lemmon, Ann-Margret, Sop...   \n",
       "\n",
       "                                              idcast        directors  \n",
       "0  [31, 12898, 7167, 12899, 12900, 7907, 8873, 11...  [John Lasseter]  \n",
       "1  [2157, 8537, 205, 145151, 5149, 10739, 58563, ...   [Joe Johnston]  \n",
       "2       [6837, 3151, 13567, 16757, 589, 16523, 7166]  [Howard Deutch]  "
      ]
     },
     "execution_count": 42,
     "metadata": {},
     "output_type": "execute_result"
    }
   ],
   "source": [
    "credits_df.head(3)"
   ]
  },
  {
   "cell_type": "code",
   "execution_count": 43,
   "metadata": {},
   "outputs": [],
   "source": [
    "etl_df=pd.merge(movies_df, credits_df, left_on='id', right_on='id')"
   ]
  },
  {
   "attachments": {},
   "cell_type": "markdown",
   "metadata": {},
   "source": [
    "Importando el Dataset consolidado"
   ]
  },
  {
   "cell_type": "code",
   "execution_count": 44,
   "metadata": {},
   "outputs": [],
   "source": [
    "etl_df.to_csv('DATASET\\Movies_ETL_ILB.csv',index=False)"
   ]
  },
  {
   "attachments": {},
   "cell_type": "markdown",
   "metadata": {},
   "source": [
    "### 2.7 Limpieza de caracteres"
   ]
  },
  {
   "cell_type": "code",
   "execution_count": 45,
   "metadata": {},
   "outputs": [],
   "source": [
    "etlmovies_df=pd.read_csv('DATASET\\Movies_ETL_ILB.csv',encoding='Latin-1')\n",
    "etlmovies_df = etlmovies_df.replace(\"\\[\", '', regex=True)\n",
    "etlmovies_df = etlmovies_df.replace(\"\\]\", '', regex=True)\n",
    "etlmovies_df = etlmovies_df.replace(\"'\", '', regex=True)\n",
    "etlmovies_df = etlmovies_df.replace('\"', '', regex=True)\n",
    "etlmovies_df.to_csv('DATASET\\Movies_ETL_ILB.csv',index=False)"
   ]
  },
  {
   "cell_type": "code",
   "execution_count": 46,
   "metadata": {},
   "outputs": [
    {
     "data": {
      "text/html": [
       "<div>\n",
       "<style scoped>\n",
       "    .dataframe tbody tr th:only-of-type {\n",
       "        vertical-align: middle;\n",
       "    }\n",
       "\n",
       "    .dataframe tbody tr th {\n",
       "        vertical-align: top;\n",
       "    }\n",
       "\n",
       "    .dataframe thead th {\n",
       "        text-align: right;\n",
       "    }\n",
       "</style>\n",
       "<table border=\"1\" class=\"dataframe\">\n",
       "  <thead>\n",
       "    <tr style=\"text-align: right;\">\n",
       "      <th></th>\n",
       "      <th>budget</th>\n",
       "      <th>id</th>\n",
       "      <th>original_language</th>\n",
       "      <th>overview</th>\n",
       "      <th>popularity</th>\n",
       "      <th>release_date</th>\n",
       "      <th>revenue</th>\n",
       "      <th>runtime</th>\n",
       "      <th>status</th>\n",
       "      <th>title</th>\n",
       "      <th>...</th>\n",
       "      <th>idgenres</th>\n",
       "      <th>pcomp_names</th>\n",
       "      <th>idpcomp</th>\n",
       "      <th>pcountries_names</th>\n",
       "      <th>iso_pcountries</th>\n",
       "      <th>spokelang_name</th>\n",
       "      <th>iso_spokelang</th>\n",
       "      <th>namescast</th>\n",
       "      <th>idcast</th>\n",
       "      <th>directors</th>\n",
       "    </tr>\n",
       "  </thead>\n",
       "  <tbody>\n",
       "    <tr>\n",
       "      <th>0</th>\n",
       "      <td>30000000.0</td>\n",
       "      <td>862</td>\n",
       "      <td>en</td>\n",
       "      <td>Led by Woody, Andys toys live happily in his r...</td>\n",
       "      <td>21.946943</td>\n",
       "      <td>1995-10-30</td>\n",
       "      <td>373554033.0</td>\n",
       "      <td>81.0</td>\n",
       "      <td>Released</td>\n",
       "      <td>Toy Story</td>\n",
       "      <td>...</td>\n",
       "      <td>16, 35, 10751</td>\n",
       "      <td>Pixar Animation Studios</td>\n",
       "      <td>3</td>\n",
       "      <td>United States of America</td>\n",
       "      <td>US</td>\n",
       "      <td>English</td>\n",
       "      <td>en</td>\n",
       "      <td>Tom Hanks, Tim Allen, Don Rickles, Jim Varney,...</td>\n",
       "      <td>31, 12898, 7167, 12899, 12900, 7907, 8873, 111...</td>\n",
       "      <td>John Lasseter</td>\n",
       "    </tr>\n",
       "    <tr>\n",
       "      <th>1</th>\n",
       "      <td>65000000.0</td>\n",
       "      <td>8844</td>\n",
       "      <td>en</td>\n",
       "      <td>When siblings Judy and Peter discover an encha...</td>\n",
       "      <td>17.015540</td>\n",
       "      <td>1995-12-15</td>\n",
       "      <td>262797249.0</td>\n",
       "      <td>104.0</td>\n",
       "      <td>Released</td>\n",
       "      <td>Jumanji</td>\n",
       "      <td>...</td>\n",
       "      <td>12, 14, 10751</td>\n",
       "      <td>TriStar Pictures, Teitler Film, Interscope Com...</td>\n",
       "      <td>559, 2550, 10201</td>\n",
       "      <td>United States of America</td>\n",
       "      <td>US</td>\n",
       "      <td>English, FranÃÂ§ais</td>\n",
       "      <td>en, fr</td>\n",
       "      <td>Robin Williams, Jonathan Hyde, Kirsten Dunst, ...</td>\n",
       "      <td>2157, 8537, 205, 145151, 5149, 10739, 58563, 1...</td>\n",
       "      <td>Joe Johnston</td>\n",
       "    </tr>\n",
       "    <tr>\n",
       "      <th>2</th>\n",
       "      <td>0.0</td>\n",
       "      <td>15602</td>\n",
       "      <td>en</td>\n",
       "      <td>A family wedding reignites the ancient feud be...</td>\n",
       "      <td>11.712900</td>\n",
       "      <td>1995-12-22</td>\n",
       "      <td>0.0</td>\n",
       "      <td>101.0</td>\n",
       "      <td>Released</td>\n",
       "      <td>Grumpier Old Men</td>\n",
       "      <td>...</td>\n",
       "      <td>10749, 35</td>\n",
       "      <td>Warner Bros., Lancaster Gate</td>\n",
       "      <td>6194, 19464</td>\n",
       "      <td>United States of America</td>\n",
       "      <td>US</td>\n",
       "      <td>English</td>\n",
       "      <td>en</td>\n",
       "      <td>Walter Matthau, Jack Lemmon, Ann-Margret, Soph...</td>\n",
       "      <td>6837, 3151, 13567, 16757, 589, 16523, 7166</td>\n",
       "      <td>Howard Deutch</td>\n",
       "    </tr>\n",
       "  </tbody>\n",
       "</table>\n",
       "<p>3 rows × 25 columns</p>\n",
       "</div>"
      ],
      "text/plain": [
       "       budget     id original_language  \\\n",
       "0  30000000.0    862                en   \n",
       "1  65000000.0   8844                en   \n",
       "2         0.0  15602                en   \n",
       "\n",
       "                                            overview  popularity release_date  \\\n",
       "0  Led by Woody, Andys toys live happily in his r...   21.946943   1995-10-30   \n",
       "1  When siblings Judy and Peter discover an encha...   17.015540   1995-12-15   \n",
       "2  A family wedding reignites the ancient feud be...   11.712900   1995-12-22   \n",
       "\n",
       "       revenue  runtime    status             title  ...       idgenres  \\\n",
       "0  373554033.0     81.0  Released         Toy Story  ...  16, 35, 10751   \n",
       "1  262797249.0    104.0  Released           Jumanji  ...  12, 14, 10751   \n",
       "2          0.0    101.0  Released  Grumpier Old Men  ...      10749, 35   \n",
       "\n",
       "                                         pcomp_names           idpcomp  \\\n",
       "0                            Pixar Animation Studios                 3   \n",
       "1  TriStar Pictures, Teitler Film, Interscope Com...  559, 2550, 10201   \n",
       "2                       Warner Bros., Lancaster Gate       6194, 19464   \n",
       "\n",
       "           pcountries_names iso_pcountries        spokelang_name  \\\n",
       "0  United States of America             US               English   \n",
       "1  United States of America             US  English, FranÃÂ§ais   \n",
       "2  United States of America             US               English   \n",
       "\n",
       "  iso_spokelang                                          namescast  \\\n",
       "0            en  Tom Hanks, Tim Allen, Don Rickles, Jim Varney,...   \n",
       "1        en, fr  Robin Williams, Jonathan Hyde, Kirsten Dunst, ...   \n",
       "2            en  Walter Matthau, Jack Lemmon, Ann-Margret, Soph...   \n",
       "\n",
       "                                              idcast      directors  \n",
       "0  31, 12898, 7167, 12899, 12900, 7907, 8873, 111...  John Lasseter  \n",
       "1  2157, 8537, 205, 145151, 5149, 10739, 58563, 1...   Joe Johnston  \n",
       "2         6837, 3151, 13567, 16757, 589, 16523, 7166  Howard Deutch  \n",
       "\n",
       "[3 rows x 25 columns]"
      ]
     },
     "execution_count": 46,
     "metadata": {},
     "output_type": "execute_result"
    }
   ],
   "source": [
    "etlmovies_df.head(3)"
   ]
  },
  {
   "attachments": {},
   "cell_type": "markdown",
   "metadata": {},
   "source": [
    "## 3 CONCLUSIONES Y RECOMENDACIONES"
   ]
  },
  {
   "attachments": {},
   "cell_type": "markdown",
   "metadata": {},
   "source": [
    "- Conforme a lo descrito en el numeral 2, se realizo el Cargue, Extranccion, Limpieza y Carga de los datasets, siguiendo los parametros definidos por HENRY en el MPV, se cumplieron con todos los objetivos, si bien se dificulto en la estranccion de los disccionarios, asi como de las listas de diccionarios, se crearon nuevas columnas y del mismo modo se eliminaron otras, con el criterio personal a lo que apunta el objetivo del PI el cual es realizar un sistema de recomendaciones, se aliminaron algunas columnas las cuales contenian un gran numero de valores nulos, o dado el caso en el EDA no aportaran ningun valor agregado.\n",
    "\n",
    "- Para el siguiente paso se recomienda realizar el EDA, completando los valores de las veriables numericas y generar los API's de consulta codificar como se dijo anteriormente el sistema de recomendaciones  con tecnicas de Machine Learning, sin antes decir que nuestra variable Objetivo seria TITULO, lo cual se verificara en el EDA."
   ]
  },
  {
   "attachments": {},
   "cell_type": "markdown",
   "metadata": {},
   "source": [
    "----------------------"
   ]
  },
  {
   "attachments": {},
   "cell_type": "markdown",
   "metadata": {},
   "source": [
    "# Sesion Info"
   ]
  },
  {
   "cell_type": "code",
   "execution_count": 47,
   "metadata": {},
   "outputs": [
    {
     "data": {
      "text/html": [
       "<details>\n",
       "<summary>Click to view session information</summary>\n",
       "<pre>\n",
       "-----\n",
       "matplotlib          3.7.1\n",
       "numpy               1.23.5\n",
       "pandas              1.5.3\n",
       "seaborn             0.12.2\n",
       "session_info        1.0.0\n",
       "ydata_profiling     v4.2.0\n",
       "-----\n",
       "</pre>\n",
       "<details>\n",
       "<summary>Click to view modules imported as dependencies</summary>\n",
       "<pre>\n",
       "PIL                 9.5.0\n",
       "asttokens           NA\n",
       "attr                23.1.0\n",
       "backcall            0.2.0\n",
       "cffi                1.15.1\n",
       "colorama            0.4.6\n",
       "comm                0.1.3\n",
       "cycler              0.10.0\n",
       "cython_runtime      NA\n",
       "dacite              NA\n",
       "dateutil            2.8.2\n",
       "debugpy             1.6.7\n",
       "decorator           5.1.1\n",
       "defusedxml          0.7.1\n",
       "executing           1.2.0\n",
       "imagehash           4.3.1\n",
       "ipykernel           6.23.1\n",
       "ipython_genutils    0.2.0\n",
       "ipywidgets          8.0.6\n",
       "jedi                0.18.2\n",
       "jinja2              3.1.2\n",
       "kiwisolver          1.4.4\n",
       "markupsafe          2.1.3\n",
       "matplotlib_inline   0.1.6\n",
       "mpl_toolkits        NA\n",
       "multimethod         1.9.1\n",
       "networkx            3.1\n",
       "nt                  NA\n",
       "ntsecuritycon       NA\n",
       "packaging           23.1\n",
       "parso               0.8.3\n",
       "patsy               0.5.3\n",
       "pickleshare         0.7.5\n",
       "pkg_resources       NA\n",
       "platformdirs        3.5.1\n",
       "prompt_toolkit      3.0.38\n",
       "psutil              5.9.5\n",
       "pure_eval           0.2.2\n",
       "pydantic            1.10.8\n",
       "pydev_ipython       NA\n",
       "pydevconsole        NA\n",
       "pydevd              2.9.5\n",
       "pydevd_file_utils   NA\n",
       "pydevd_plugins      NA\n",
       "pydevd_tracing      NA\n",
       "pygments            2.15.1\n",
       "pyparsing           3.0.9\n",
       "pythoncom           NA\n",
       "pytz                2023.3\n",
       "pywin32_bootstrap   NA\n",
       "pywin32_system32    NA\n",
       "pywintypes          NA\n",
       "scipy               1.10.1\n",
       "six                 1.16.0\n",
       "stack_data          0.6.2\n",
       "statsmodels         0.14.0\n",
       "tornado             6.3.2\n",
       "tqdm                4.65.0\n",
       "traitlets           5.9.0\n",
       "typeguard           NA\n",
       "typing_extensions   NA\n",
       "visions             0.7.5\n",
       "wcwidth             0.2.6\n",
       "win32api            NA\n",
       "win32com            NA\n",
       "win32security       NA\n",
       "wordcloud           1.9.2\n",
       "yaml                6.0\n",
       "zmq                 25.1.0\n",
       "zoneinfo            NA\n",
       "</pre>\n",
       "</details> <!-- seems like this ends pre, so might as well be explicit -->\n",
       "<pre>\n",
       "-----\n",
       "IPython             8.14.0\n",
       "jupyter_client      8.2.0\n",
       "jupyter_core        5.3.0\n",
       "notebook            6.5.4\n",
       "-----\n",
       "Python 3.10.8 (tags/v3.10.8:aaaf517, Oct 11 2022, 16:50:30) [MSC v.1933 64 bit (AMD64)]\n",
       "Windows-10-10.0.19044-SP0\n",
       "-----\n",
       "Session information updated at 2023-06-11 17:59\n",
       "</pre>\n",
       "</details>"
      ],
      "text/plain": [
       "<IPython.core.display.HTML object>"
      ]
     },
     "execution_count": 47,
     "metadata": {},
     "output_type": "execute_result"
    }
   ],
   "source": [
    "session_info.show()"
   ]
  },
  {
   "cell_type": "code",
   "execution_count": 48,
   "metadata": {},
   "outputs": [
    {
     "data": {
      "text/plain": [
       "Index(['budget', 'id', 'original_language', 'overview', 'popularity',\n",
       "       'release_date', 'revenue', 'runtime', 'status', 'title', 'vote_average',\n",
       "       'vote_count', 'return', 'release_year', 'genres_name', 'idgenres',\n",
       "       'pcomp_names', 'idpcomp', 'pcountries_names', 'iso_pcountries',\n",
       "       'spokelang_name', 'iso_spokelang', 'namescast', 'idcast', 'directors'],\n",
       "      dtype='object')"
      ]
     },
     "execution_count": 48,
     "metadata": {},
     "output_type": "execute_result"
    }
   ],
   "source": [
    "etlmovies_df.columns"
   ]
  }
 ],
 "metadata": {
  "kernelspec": {
   "display_name": "env",
   "language": "python",
   "name": "python3"
  },
  "language_info": {
   "codemirror_mode": {
    "name": "ipython",
    "version": 3
   },
   "file_extension": ".py",
   "mimetype": "text/x-python",
   "name": "python",
   "nbconvert_exporter": "python",
   "pygments_lexer": "ipython3",
   "version": "3.10.8"
  },
  "orig_nbformat": 4
 },
 "nbformat": 4,
 "nbformat_minor": 2
}
