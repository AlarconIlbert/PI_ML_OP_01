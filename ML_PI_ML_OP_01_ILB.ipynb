{
 "cells": [
  {
   "cell_type": "code",
   "execution_count": 1,
   "metadata": {},
   "outputs": [],
   "source": [
    "import pandas as pd\n",
    "import numpy as np\n",
    "from sklearn.feature_extraction.text import TfidfVectorizer\n",
    "from sklearn.feature_extraction.text import CountVectorizer\n",
    "from sklearn.metrics.pairwise import cosine_similarity\n",
    "from sklearn.decomposition import PCA\n",
    "import nltk\n",
    "from nltk.corpus import stopwords\n",
    "from nltk.tokenize import word_tokenize\n",
    "from sklearn.metrics import pairwise_distances\n",
    "from sklearn.metrics.pairwise import cosine_distances"
   ]
  },
  {
   "cell_type": "code",
   "execution_count": 2,
   "metadata": {},
   "outputs": [],
   "source": [
    "# Cargar el dataset\n",
    "df = pd.read_csv('DATASET\\Movies_EDA_ILB.csv', encoding='utf-8')"
   ]
  },
  {
   "cell_type": "code",
   "execution_count": 3,
   "metadata": {},
   "outputs": [],
   "source": [
    "model_df=df[['overview','title','genres_name']]"
   ]
  },
  {
   "cell_type": "code",
   "execution_count": 4,
   "metadata": {},
   "outputs": [],
   "source": [
    "def convert_columns_to_lowercase(df):\n",
    "    for column in df.select_dtypes(include='object'):\n",
    "        df[column] = df[column].str.lower()\n",
    "    return df"
   ]
  },
  {
   "cell_type": "code",
   "execution_count": 5,
   "metadata": {},
   "outputs": [
    {
     "name": "stderr",
     "output_type": "stream",
     "text": [
      "C:\\Users\\Alarcon Ilbert\\AppData\\Local\\Temp\\ipykernel_11568\\2484958803.py:3: SettingWithCopyWarning: \n",
      "A value is trying to be set on a copy of a slice from a DataFrame.\n",
      "Try using .loc[row_indexer,col_indexer] = value instead\n",
      "\n",
      "See the caveats in the documentation: https://pandas.pydata.org/pandas-docs/stable/user_guide/indexing.html#returning-a-view-versus-a-copy\n",
      "  df[column] = df[column].str.lower()\n"
     ]
    }
   ],
   "source": [
    "model_df = convert_columns_to_lowercase(model_df)"
   ]
  },
  {
   "cell_type": "code",
   "execution_count": 6,
   "metadata": {},
   "outputs": [
    {
     "name": "stderr",
     "output_type": "stream",
     "text": [
      "[nltk_data] Downloading package stopwords to C:\\Users\\Alarcon\n",
      "[nltk_data]     Ilbert\\AppData\\Roaming\\nltk_data...\n",
      "[nltk_data]   Package stopwords is already up-to-date!\n",
      "[nltk_data] Downloading package punkt to C:\\Users\\Alarcon\n",
      "[nltk_data]     Ilbert\\AppData\\Roaming\\nltk_data...\n",
      "[nltk_data]   Package punkt is already up-to-date!\n"
     ]
    },
    {
     "data": {
      "text/plain": [
       "True"
      ]
     },
     "execution_count": 6,
     "metadata": {},
     "output_type": "execute_result"
    }
   ],
   "source": [
    "nltk.download('stopwords')\n",
    "nltk.download('punkt')"
   ]
  },
  {
   "cell_type": "code",
   "execution_count": 7,
   "metadata": {},
   "outputs": [],
   "source": [
    "def create_text(model_data):\n",
    "    text = model_data['title']\n",
    "    for column in ['genres_name', 'overview', 'namescast', 'directors']:\n",
    "        if pd.notnull(model_data[column]) and isinstance(model_data[column], str):\n",
    "            text += ' ' + model_data[column].lower()\n",
    "    return text"
   ]
  },
  {
   "cell_type": "code",
   "execution_count": 8,
   "metadata": {},
   "outputs": [
    {
     "name": "stderr",
     "output_type": "stream",
     "text": [
      "C:\\Users\\Alarcon Ilbert\\AppData\\Local\\Temp\\ipykernel_11568\\682870792.py:12: SettingWithCopyWarning: \n",
      "A value is trying to be set on a copy of a slice from a DataFrame.\n",
      "Try using .loc[row_indexer,col_indexer] = value instead\n",
      "\n",
      "See the caveats in the documentation: https://pandas.pydata.org/pandas-docs/stable/user_guide/indexing.html#returning-a-view-versus-a-copy\n",
      "  model_df['keywords'] = None  # Crear la columna 'keywords' inicialmente con valores nulos\n"
     ]
    }
   ],
   "source": [
    "stop_words = set(stopwords.words('english'))\n",
    "\n",
    "def extract_keywords(overview):\n",
    "    if pd.notnull(overview) and isinstance(overview, str):\n",
    "        tokens = word_tokenize(overview.lower())  # Tokenizar y convertir a minúsculas\n",
    "        keywords = [token for token in tokens if token.isalpha() and token not in stop_words]  # Filtrar palabras clave\n",
    "        return keywords\n",
    "    else:\n",
    "        return []\n",
    "\n",
    "# Iterar sobre el dataset y encontrar las palabras clave para cada fila\n",
    "model_df['keywords'] = None  # Crear la columna 'keywords' inicialmente con valores nulos\n",
    "for index, row in model_df.iterrows():\n",
    "    plot = row['overview']\n",
    "    keywords = extract_keywords(plot)\n",
    "    \n",
    "    model_df.at[index, 'keywords'] = keywords"
   ]
  },
  {
   "cell_type": "code",
   "execution_count": 9,
   "metadata": {},
   "outputs": [
    {
     "data": {
      "text/html": [
       "<div>\n",
       "<style scoped>\n",
       "    .dataframe tbody tr th:only-of-type {\n",
       "        vertical-align: middle;\n",
       "    }\n",
       "\n",
       "    .dataframe tbody tr th {\n",
       "        vertical-align: top;\n",
       "    }\n",
       "\n",
       "    .dataframe thead th {\n",
       "        text-align: right;\n",
       "    }\n",
       "</style>\n",
       "<table border=\"1\" class=\"dataframe\">\n",
       "  <thead>\n",
       "    <tr style=\"text-align: right;\">\n",
       "      <th></th>\n",
       "      <th>overview</th>\n",
       "      <th>title</th>\n",
       "      <th>genres_name</th>\n",
       "      <th>keywords</th>\n",
       "    </tr>\n",
       "  </thead>\n",
       "  <tbody>\n",
       "    <tr>\n",
       "      <th>0</th>\n",
       "      <td>led by woody, andys toys live happily in his r...</td>\n",
       "      <td>toy story</td>\n",
       "      <td>animation, comedy, family</td>\n",
       "      <td>[led, woody, andys, toys, live, happily, room,...</td>\n",
       "    </tr>\n",
       "    <tr>\n",
       "      <th>1</th>\n",
       "      <td>when siblings judy and peter discover an encha...</td>\n",
       "      <td>jumanji</td>\n",
       "      <td>adventure, fantasy, family</td>\n",
       "      <td>[siblings, judy, peter, discover, enchanted, b...</td>\n",
       "    </tr>\n",
       "    <tr>\n",
       "      <th>2</th>\n",
       "      <td>a family wedding reignites the ancient feud be...</td>\n",
       "      <td>grumpier old men</td>\n",
       "      <td>romance, comedy</td>\n",
       "      <td>[family, wedding, reignites, ancient, feud, ne...</td>\n",
       "    </tr>\n",
       "  </tbody>\n",
       "</table>\n",
       "</div>"
      ],
      "text/plain": [
       "                                            overview             title  \\\n",
       "0  led by woody, andys toys live happily in his r...         toy story   \n",
       "1  when siblings judy and peter discover an encha...           jumanji   \n",
       "2  a family wedding reignites the ancient feud be...  grumpier old men   \n",
       "\n",
       "                  genres_name  \\\n",
       "0   animation, comedy, family   \n",
       "1  adventure, fantasy, family   \n",
       "2             romance, comedy   \n",
       "\n",
       "                                            keywords  \n",
       "0  [led, woody, andys, toys, live, happily, room,...  \n",
       "1  [siblings, judy, peter, discover, enchanted, b...  \n",
       "2  [family, wedding, reignites, ancient, feud, ne...  "
      ]
     },
     "execution_count": 9,
     "metadata": {},
     "output_type": "execute_result"
    }
   ],
   "source": [
    "model_df.head(3)"
   ]
  },
  {
   "cell_type": "code",
   "execution_count": 10,
   "metadata": {},
   "outputs": [
    {
     "name": "stderr",
     "output_type": "stream",
     "text": [
      "C:\\Users\\Alarcon Ilbert\\AppData\\Local\\Temp\\ipykernel_11568\\1078362905.py:1: SettingWithCopyWarning: \n",
      "A value is trying to be set on a copy of a slice from a DataFrame\n",
      "\n",
      "See the caveats in the documentation: https://pandas.pydata.org/pandas-docs/stable/user_guide/indexing.html#returning-a-view-versus-a-copy\n",
      "  model_df.drop(columns=['overview'],inplace=True)\n"
     ]
    }
   ],
   "source": [
    "model_df.drop(columns=['overview'],inplace=True)"
   ]
  },
  {
   "cell_type": "code",
   "execution_count": 11,
   "metadata": {},
   "outputs": [],
   "source": [
    "def remove_commas(text):\n",
    "    if isinstance(text, str):\n",
    "        return text.replace(',', '')\n",
    "    else:\n",
    "        return ''"
   ]
  },
  {
   "cell_type": "code",
   "execution_count": 12,
   "metadata": {},
   "outputs": [
    {
     "name": "stderr",
     "output_type": "stream",
     "text": [
      "C:\\Users\\Alarcon Ilbert\\AppData\\Local\\Temp\\ipykernel_11568\\814766163.py:10: SettingWithCopyWarning: \n",
      "A value is trying to be set on a copy of a slice from a DataFrame.\n",
      "Try using .loc[row_indexer,col_indexer] = value instead\n",
      "\n",
      "See the caveats in the documentation: https://pandas.pydata.org/pandas-docs/stable/user_guide/indexing.html#returning-a-view-versus-a-copy\n",
      "  model_df['keywords'] = model_df['keywords'].apply(clean_keywords)\n"
     ]
    }
   ],
   "source": [
    "def clean_keywords(keywords):\n",
    "    if isinstance(keywords, list):\n",
    "        cleaned_keywords = ' '.join(keywords)\n",
    "        cleaned_keywords = cleaned_keywords.replace('[', '').replace(']', '')\n",
    "        return cleaned_keywords\n",
    "    else:\n",
    "        return ''\n",
    "\n",
    "# Aplicar la función clean_keywords a la columna 'keywords'\n",
    "model_df['keywords'] = model_df['keywords'].apply(clean_keywords)"
   ]
  },
  {
   "cell_type": "code",
   "execution_count": 13,
   "metadata": {},
   "outputs": [
    {
     "name": "stderr",
     "output_type": "stream",
     "text": [
      "C:\\Users\\Alarcon Ilbert\\AppData\\Local\\Temp\\ipykernel_11568\\3928622450.py:1: SettingWithCopyWarning: \n",
      "A value is trying to be set on a copy of a slice from a DataFrame.\n",
      "Try using .loc[row_indexer,col_indexer] = value instead\n",
      "\n",
      "See the caveats in the documentation: https://pandas.pydata.org/pandas-docs/stable/user_guide/indexing.html#returning-a-view-versus-a-copy\n",
      "  model_df['texto'] = (\n"
     ]
    }
   ],
   "source": [
    "model_df['texto'] = (\n",
    "    model_df['title'].apply(remove_commas) + ' ' +\n",
    "    model_df['genres_name'].apply(remove_commas) + ' ' +\n",
    "    model_df['keywords'].apply(remove_commas) + ' '\n",
    ")"
   ]
  },
  {
   "cell_type": "code",
   "execution_count": 14,
   "metadata": {},
   "outputs": [
    {
     "data": {
      "text/html": [
       "<div>\n",
       "<style scoped>\n",
       "    .dataframe tbody tr th:only-of-type {\n",
       "        vertical-align: middle;\n",
       "    }\n",
       "\n",
       "    .dataframe tbody tr th {\n",
       "        vertical-align: top;\n",
       "    }\n",
       "\n",
       "    .dataframe thead th {\n",
       "        text-align: right;\n",
       "    }\n",
       "</style>\n",
       "<table border=\"1\" class=\"dataframe\">\n",
       "  <thead>\n",
       "    <tr style=\"text-align: right;\">\n",
       "      <th></th>\n",
       "      <th>title</th>\n",
       "      <th>genres_name</th>\n",
       "      <th>keywords</th>\n",
       "      <th>texto</th>\n",
       "    </tr>\n",
       "  </thead>\n",
       "  <tbody>\n",
       "    <tr>\n",
       "      <th>0</th>\n",
       "      <td>toy story</td>\n",
       "      <td>animation, comedy, family</td>\n",
       "      <td>led woody andys toys live happily room andys b...</td>\n",
       "      <td>toy story animation comedy family led woody an...</td>\n",
       "    </tr>\n",
       "    <tr>\n",
       "      <th>1</th>\n",
       "      <td>jumanji</td>\n",
       "      <td>adventure, fantasy, family</td>\n",
       "      <td>siblings judy peter discover enchanted board g...</td>\n",
       "      <td>jumanji adventure fantasy family siblings judy...</td>\n",
       "    </tr>\n",
       "    <tr>\n",
       "      <th>2</th>\n",
       "      <td>grumpier old men</td>\n",
       "      <td>romance, comedy</td>\n",
       "      <td>family wedding reignites ancient feud neighbor...</td>\n",
       "      <td>grumpier old men romance comedy family wedding...</td>\n",
       "    </tr>\n",
       "  </tbody>\n",
       "</table>\n",
       "</div>"
      ],
      "text/plain": [
       "              title                 genres_name  \\\n",
       "0         toy story   animation, comedy, family   \n",
       "1           jumanji  adventure, fantasy, family   \n",
       "2  grumpier old men             romance, comedy   \n",
       "\n",
       "                                            keywords  \\\n",
       "0  led woody andys toys live happily room andys b...   \n",
       "1  siblings judy peter discover enchanted board g...   \n",
       "2  family wedding reignites ancient feud neighbor...   \n",
       "\n",
       "                                               texto  \n",
       "0  toy story animation comedy family led woody an...  \n",
       "1  jumanji adventure fantasy family siblings judy...  \n",
       "2  grumpier old men romance comedy family wedding...  "
      ]
     },
     "execution_count": 14,
     "metadata": {},
     "output_type": "execute_result"
    }
   ],
   "source": [
    "model_df.head(3)"
   ]
  },
  {
   "cell_type": "code",
   "execution_count": 15,
   "metadata": {},
   "outputs": [
    {
     "name": "stderr",
     "output_type": "stream",
     "text": [
      "C:\\Users\\Alarcon Ilbert\\AppData\\Local\\Temp\\ipykernel_11568\\3057418384.py:1: SettingWithCopyWarning: \n",
      "A value is trying to be set on a copy of a slice from a DataFrame\n",
      "\n",
      "See the caveats in the documentation: https://pandas.pydata.org/pandas-docs/stable/user_guide/indexing.html#returning-a-view-versus-a-copy\n",
      "  model_df.drop(columns=['keywords','genres_name'], inplace=True)\n"
     ]
    }
   ],
   "source": [
    "model_df.drop(columns=['keywords','genres_name'], inplace=True)"
   ]
  },
  {
   "cell_type": "code",
   "execution_count": 16,
   "metadata": {},
   "outputs": [],
   "source": [
    "model_df=model_df.reset_index(drop=True)"
   ]
  },
  {
   "cell_type": "code",
   "execution_count": 17,
   "metadata": {},
   "outputs": [
    {
     "data": {
      "text/html": [
       "<div>\n",
       "<style scoped>\n",
       "    .dataframe tbody tr th:only-of-type {\n",
       "        vertical-align: middle;\n",
       "    }\n",
       "\n",
       "    .dataframe tbody tr th {\n",
       "        vertical-align: top;\n",
       "    }\n",
       "\n",
       "    .dataframe thead th {\n",
       "        text-align: right;\n",
       "    }\n",
       "</style>\n",
       "<table border=\"1\" class=\"dataframe\">\n",
       "  <thead>\n",
       "    <tr style=\"text-align: right;\">\n",
       "      <th></th>\n",
       "      <th>title</th>\n",
       "      <th>texto</th>\n",
       "    </tr>\n",
       "  </thead>\n",
       "  <tbody>\n",
       "    <tr>\n",
       "      <th>0</th>\n",
       "      <td>toy story</td>\n",
       "      <td>toy story animation comedy family led woody an...</td>\n",
       "    </tr>\n",
       "    <tr>\n",
       "      <th>1</th>\n",
       "      <td>jumanji</td>\n",
       "      <td>jumanji adventure fantasy family siblings judy...</td>\n",
       "    </tr>\n",
       "    <tr>\n",
       "      <th>2</th>\n",
       "      <td>grumpier old men</td>\n",
       "      <td>grumpier old men romance comedy family wedding...</td>\n",
       "    </tr>\n",
       "  </tbody>\n",
       "</table>\n",
       "</div>"
      ],
      "text/plain": [
       "              title                                              texto\n",
       "0         toy story  toy story animation comedy family led woody an...\n",
       "1           jumanji  jumanji adventure fantasy family siblings judy...\n",
       "2  grumpier old men  grumpier old men romance comedy family wedding..."
      ]
     },
     "execution_count": 17,
     "metadata": {},
     "output_type": "execute_result"
    }
   ],
   "source": [
    "model_df.head(3)"
   ]
  },
  {
   "cell_type": "code",
   "execution_count": 18,
   "metadata": {},
   "outputs": [],
   "source": [
    "# Reemplazar los valores np.nan con una cadena vacía\n",
    "model_df['texto'] = model_df['texto'].fillna('')"
   ]
  },
  {
   "cell_type": "code",
   "execution_count": 19,
   "metadata": {},
   "outputs": [],
   "source": [
    "model_df.to_csv('DATASET\\Movies_ML_ILB.csv',index=False)"
   ]
  },
  {
   "cell_type": "code",
   "execution_count": 20,
   "metadata": {},
   "outputs": [],
   "source": [
    "# Crear una instancia del CountVectorizer con los parámetros deseados\n",
    "cv = CountVectorizer(stop_words='english', max_features=100000000000000, min_df=1, max_df=20)  # Ajusta el valor de max_features según tus necesidades"
   ]
  },
  {
   "cell_type": "code",
   "execution_count": 21,
   "metadata": {},
   "outputs": [],
   "source": [
    "# Definir el tamaño de lote para el cálculo de similitud\n",
    "batch_size = 7000"
   ]
  },
  {
   "cell_type": "code",
   "execution_count": 22,
   "metadata": {},
   "outputs": [],
   "source": [
    "# Obtener el número total de muestras y calcular el número de lotes\n",
    "n_samples = len(model_df)\n",
    "n_batches = (n_samples // batch_size) + 1\n",
    "\n",
    "cosine_sim_list = []\n",
    "\n",
    "for i in range(n_batches):\n",
    "    start = i * batch_size\n",
    "    end = min((i + 1) * batch_size, n_samples)\n",
    "\n",
    "    # Obtener el subconjunto de datos\n",
    "    subset_data = model_df.iloc[start:end]\n",
    "\n",
    "    # Ajustar y transformar el CountVectorizer en el subconjunto de datos\n",
    "    cv_matrix = cv.fit_transform(subset_data['texto'])\n",
    "\n",
    "    # Calcular la similitud coseno entre los textos\n",
    "    similarity_matrix = cosine_similarity(cv_matrix, cv_matrix)\n",
    "\n",
    "    # Agregar la matriz de similitud a la lista\n",
    "    cosine_sim_list.append(similarity_matrix)"
   ]
  },
  {
   "cell_type": "code",
   "execution_count": 23,
   "metadata": {},
   "outputs": [],
   "source": [
    "# Encontrar la dimensión máxima a lo largo del eje 1\n",
    "max_dim_1 = max(matrix.shape[1] for matrix in cosine_sim_list)"
   ]
  },
  {
   "cell_type": "code",
   "execution_count": 24,
   "metadata": {},
   "outputs": [],
   "source": [
    "# Ajustar las dimensiones de las matrices al número máximo de columnas\n",
    "cosine_sim_list = [np.pad(matrix, ((0, 0), (0, max_dim_1 - matrix.shape[1])), mode='constant') for matrix in cosine_sim_list]"
   ]
  },
  {
   "cell_type": "code",
   "execution_count": 25,
   "metadata": {},
   "outputs": [],
   "source": [
    "# Combinar las matrices de similitud coseno en una única matriz\n",
    "cosine_sim = np.concatenate(cosine_sim_list, axis=0)"
   ]
  },
  {
   "cell_type": "code",
   "execution_count": 26,
   "metadata": {},
   "outputs": [],
   "source": [
    "def recomendaciones(titulo, cosine_sim=cosine_sim):\n",
    "    try:\n",
    "        # Getting the index of the movie that matches the title\n",
    "        idx = model_df[model_df['title'] == str(titulo).lower()].index[0]\n",
    "        # Getting the similarity scores\n",
    "        sim_scores = list(enumerate(cosine_sim[idx]))\n",
    "        #Sorting the movies based on the similarity scores\n",
    "        sim_scores = sorted(sim_scores, key=lambda x: x[1], reverse=True)\n",
    "\n",
    "        # Getting the top 5 recommendations\n",
    "        sim_scores = sim_scores[1:6]\n",
    "        movie_indices = [i[0] for i in sim_scores]\n",
    "        recommendations=list(model_df['title'].iloc[movie_indices].str.title())\n",
    "        return {'lista recomendada': recommendations} \n",
    "    except:\n",
    "        return {'lista recomendada': ['LEGO DC Super Hero Girls: Brain Drain', 'The Lion of Thebes', 'Criminal Justice', 'Mad at the Moon', 'The Far Pavilions']}"
   ]
  },
  {
   "cell_type": "code",
   "execution_count": 27,
   "metadata": {},
   "outputs": [
    {
     "data": {
      "text/plain": [
       "{'lista recomendada': ['Commando',\n",
       "  'The Matrix Reloaded',\n",
       "  'The Transformers: The Movie',\n",
       "  'The Matrix Revolutions',\n",
       "  'Looker']}"
      ]
     },
     "execution_count": 27,
     "metadata": {},
     "output_type": "execute_result"
    }
   ],
   "source": [
    "recomendaciones('the matrix')"
   ]
  }
 ],
 "metadata": {
  "kernelspec": {
   "display_name": ".venv",
   "language": "python",
   "name": "python3"
  },
  "language_info": {
   "codemirror_mode": {
    "name": "ipython",
    "version": 3
   },
   "file_extension": ".py",
   "mimetype": "text/x-python",
   "name": "python",
   "nbconvert_exporter": "python",
   "pygments_lexer": "ipython3",
   "version": "3.10.8"
  },
  "orig_nbformat": 4
 },
 "nbformat": 4,
 "nbformat_minor": 2
}
